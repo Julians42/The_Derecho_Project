{
 "cells": [
  {
   "cell_type": "markdown",
   "metadata": {},
   "source": [
    "# Codes for running large scale Wind Data Downloads"
   ]
  },
  {
   "cell_type": "markdown",
   "metadata": {},
   "source": [
    "The script uses shapely points querried from pywkt site lookup written to csv in spatial intersect. "
   ]
  },
  {
   "cell_type": "code",
   "execution_count": 1,
   "metadata": {},
   "outputs": [],
   "source": [
    "# Select state, year, and attributes for which to download data\n",
    "state = \"Iowa\"\n",
    "interval = 5 # set wind resolution to 5 min (default is sample every 60 mins)\n",
    "years = [2007, 2008, 2009, 2010, 2011, 2012, 2013, 2014] # available years\n",
    "attributes = ['windspeed_10m', 'windspeed_100m', 'temperature_10m', 'temperature_100m', 'winddirection_100m']"
   ]
  },
  {
   "cell_type": "code",
   "execution_count": 2,
   "metadata": {},
   "outputs": [],
   "source": [
    "# Package Imports\n",
    "%matplotlib inline\n",
    "import matplotlib.pyplot as plt\n",
    "import numpy as np\n",
    "import pandas as pd\n",
    "import requests\n",
    "from io import StringIO\n",
    "import sys\n",
    "import time\n",
    "import csv\n",
    "import logging\n",
    "import os\n",
    "from os import path\n",
    "from shapely import wkb, wkt\n",
    "from shapely.geometry import Point, shape, Polygon\n",
    "import traceback\n",
    "import pywtk\n",
    "from pywtk.site_lookup import get_3tiersites_from_wkt\n",
    "import fiona\n",
    "\n",
    "# Imports for timing download\n",
    "from tqdm import tqdm\n",
    "from tqdm.notebook import trange"
   ]
  },
  {
   "cell_type": "code",
   "execution_count": 3,
   "metadata": {},
   "outputs": [],
   "source": [
    "# read csvs\n",
    "wkt_locations = pd.read_csv(\"US_wind_locations_3.csv\")\n",
    "corn = pd.read_csv(\"~/Documents/Schoolwork/Junior Fall/EPS 168/project/data/data_yield/Maize_1999_2019_NASS.csv\")"
   ]
  },
  {
   "cell_type": "code",
   "execution_count": 4,
   "metadata": {},
   "outputs": [
    {
     "data": {
      "text/html": [
       "<div>\n",
       "<style scoped>\n",
       "    .dataframe tbody tr th:only-of-type {\n",
       "        vertical-align: middle;\n",
       "    }\n",
       "\n",
       "    .dataframe tbody tr th {\n",
       "        vertical-align: top;\n",
       "    }\n",
       "\n",
       "    .dataframe thead th {\n",
       "        text-align: right;\n",
       "    }\n",
       "</style>\n",
       "<table border=\"1\" class=\"dataframe\">\n",
       "  <thead>\n",
       "    <tr style=\"text-align: right;\">\n",
       "      <th></th>\n",
       "      <th>Unnamed: 0</th>\n",
       "      <th>NAME</th>\n",
       "      <th>STATE</th>\n",
       "      <th>STATEFP</th>\n",
       "      <th>COUNTYFP</th>\n",
       "      <th>NAMELSAD</th>\n",
       "      <th>POINT</th>\n",
       "      <th>SITE</th>\n",
       "      <th>ST_CT</th>\n",
       "    </tr>\n",
       "  </thead>\n",
       "  <tbody>\n",
       "    <tr>\n",
       "      <th>0</th>\n",
       "      <td>0</td>\n",
       "      <td>Cuming</td>\n",
       "      <td>Nebraska</td>\n",
       "      <td>31</td>\n",
       "      <td>39</td>\n",
       "      <td>Cuming County</td>\n",
       "      <td>POINT (-96.985748 41.851967)</td>\n",
       "      <td>66913</td>\n",
       "      <td>31_39</td>\n",
       "    </tr>\n",
       "    <tr>\n",
       "      <th>5</th>\n",
       "      <td>5</td>\n",
       "      <td>Lancaster</td>\n",
       "      <td>Nebraska</td>\n",
       "      <td>31</td>\n",
       "      <td>109</td>\n",
       "      <td>Lancaster County</td>\n",
       "      <td>POINT (-96.723145 40.7766)</td>\n",
       "      <td>54135</td>\n",
       "      <td>31_109</td>\n",
       "    </tr>\n",
       "    <tr>\n",
       "      <th>6</th>\n",
       "      <td>6</td>\n",
       "      <td>Lancaster</td>\n",
       "      <td>Nebraska</td>\n",
       "      <td>31</td>\n",
       "      <td>109</td>\n",
       "      <td>Lancaster County</td>\n",
       "      <td>POINT (-96.575378 40.703255)</td>\n",
       "      <td>53444</td>\n",
       "      <td>31_109</td>\n",
       "    </tr>\n",
       "    <tr>\n",
       "      <th>7</th>\n",
       "      <td>7</td>\n",
       "      <td>Lancaster</td>\n",
       "      <td>Nebraska</td>\n",
       "      <td>31</td>\n",
       "      <td>109</td>\n",
       "      <td>Lancaster County</td>\n",
       "      <td>POINT (-96.7229 40.75803)</td>\n",
       "      <td>53954</td>\n",
       "      <td>31_109</td>\n",
       "    </tr>\n",
       "    <tr>\n",
       "      <th>8</th>\n",
       "      <td>8</td>\n",
       "      <td>Nuckolls</td>\n",
       "      <td>Nebraska</td>\n",
       "      <td>31</td>\n",
       "      <td>129</td>\n",
       "      <td>Nuckolls County</td>\n",
       "      <td>POINT (-98.216003 40.032036)</td>\n",
       "      <td>48472</td>\n",
       "      <td>31_129</td>\n",
       "    </tr>\n",
       "  </tbody>\n",
       "</table>\n",
       "</div>"
      ],
      "text/plain": [
       "   Unnamed: 0       NAME     STATE  STATEFP  COUNTYFP          NAMELSAD  \\\n",
       "0           0     Cuming  Nebraska       31        39     Cuming County   \n",
       "5           5  Lancaster  Nebraska       31       109  Lancaster County   \n",
       "6           6  Lancaster  Nebraska       31       109  Lancaster County   \n",
       "7           7  Lancaster  Nebraska       31       109  Lancaster County   \n",
       "8           8   Nuckolls  Nebraska       31       129   Nuckolls County   \n",
       "\n",
       "                          POINT   SITE   ST_CT  \n",
       "0  POINT (-96.985748 41.851967)  66913   31_39  \n",
       "5    POINT (-96.723145 40.7766)  54135  31_109  \n",
       "6  POINT (-96.575378 40.703255)  53444  31_109  \n",
       "7     POINT (-96.7229 40.75803)  53954  31_109  \n",
       "8  POINT (-98.216003 40.032036)  48472  31_129  "
      ]
     },
     "execution_count": 4,
     "metadata": {},
     "output_type": "execute_result"
    }
   ],
   "source": [
    "# Clean Data\n",
    "corn.rename(columns={'State ANSI': 'STATEFP', 'County ANSI':'COUNTYFP'}, inplace=True) # match columns\n",
    "corn_clean = corn.dropna(subset=['STATEFP','COUNTYFP']).copy()\n",
    "\n",
    "# Add modified FIPS column to yield and wkt data \n",
    "corn_clean['ST_CT'] = [(str(elt[0])+\"_\"+str(int(elt[1]))) for elt in \\\n",
    "                       zip(np.array(corn_clean['STATEFP'].values), np.array(corn_clean['COUNTYFP'].values))]\n",
    "wkt_locations['ST_CT'] = [(str(elt[0])+\"_\"+str(elt[1])) for elt in \\\n",
    "                       zip(np.array(wkt_locations['STATEFP'].values), np.array(wkt_locations['COUNTYFP'].values))]\n",
    "\n",
    "# extract wkt locations which contain a FIPS matching one in the corn dataset\n",
    "to_download = wkt_locations.loc[wkt_locations['ST_CT'].isin(set(corn_clean['ST_CT'].values))]\n",
    "to_download.head()"
   ]
  },
  {
   "cell_type": "code",
   "execution_count": 5,
   "metadata": {},
   "outputs": [
    {
     "name": "stdout",
     "output_type": "stream",
     "text": [
      "The following will implement the download of 267 wind data sites.\n"
     ]
    },
    {
     "data": {
      "text/html": [
       "<div>\n",
       "<style scoped>\n",
       "    .dataframe tbody tr th:only-of-type {\n",
       "        vertical-align: middle;\n",
       "    }\n",
       "\n",
       "    .dataframe tbody tr th {\n",
       "        vertical-align: top;\n",
       "    }\n",
       "\n",
       "    .dataframe thead th {\n",
       "        text-align: right;\n",
       "    }\n",
       "</style>\n",
       "<table border=\"1\" class=\"dataframe\">\n",
       "  <thead>\n",
       "    <tr style=\"text-align: right;\">\n",
       "      <th></th>\n",
       "      <th>Unnamed: 0</th>\n",
       "      <th>NAME</th>\n",
       "      <th>STATE</th>\n",
       "      <th>STATEFP</th>\n",
       "      <th>COUNTYFP</th>\n",
       "      <th>NAMELSAD</th>\n",
       "      <th>POINT</th>\n",
       "      <th>SITE</th>\n",
       "      <th>ST_CT</th>\n",
       "    </tr>\n",
       "  </thead>\n",
       "  <tbody>\n",
       "    <tr>\n",
       "      <th>266</th>\n",
       "      <td>266</td>\n",
       "      <td>Decatur</td>\n",
       "      <td>Iowa</td>\n",
       "      <td>19</td>\n",
       "      <td>53</td>\n",
       "      <td>Decatur County</td>\n",
       "      <td>POINT (-93.77731300000001 40.8857)</td>\n",
       "      <td>55562</td>\n",
       "      <td>19_53</td>\n",
       "    </tr>\n",
       "    <tr>\n",
       "      <th>267</th>\n",
       "      <td>267</td>\n",
       "      <td>Decatur</td>\n",
       "      <td>Iowa</td>\n",
       "      <td>19</td>\n",
       "      <td>53</td>\n",
       "      <td>Decatur County</td>\n",
       "      <td>POINT (-93.557129 40.862282)</td>\n",
       "      <td>55352</td>\n",
       "      <td>19_53</td>\n",
       "    </tr>\n",
       "    <tr>\n",
       "      <th>368</th>\n",
       "      <td>368</td>\n",
       "      <td>Cedar</td>\n",
       "      <td>Iowa</td>\n",
       "      <td>19</td>\n",
       "      <td>31</td>\n",
       "      <td>Cedar County</td>\n",
       "      <td>POINT (-90.993286 41.851456)</td>\n",
       "      <td>68641</td>\n",
       "      <td>19_31</td>\n",
       "    </tr>\n",
       "    <tr>\n",
       "      <th>369</th>\n",
       "      <td>369</td>\n",
       "      <td>Cedar</td>\n",
       "      <td>Iowa</td>\n",
       "      <td>19</td>\n",
       "      <td>31</td>\n",
       "      <td>Cedar County</td>\n",
       "      <td>POINT (-91.016632 41.87117)</td>\n",
       "      <td>68898</td>\n",
       "      <td>19_31</td>\n",
       "    </tr>\n",
       "    <tr>\n",
       "      <th>370</th>\n",
       "      <td>370</td>\n",
       "      <td>Cedar</td>\n",
       "      <td>Iowa</td>\n",
       "      <td>19</td>\n",
       "      <td>31</td>\n",
       "      <td>Cedar County</td>\n",
       "      <td>POINT (-90.96993999999999 41.831738)</td>\n",
       "      <td>68365</td>\n",
       "      <td>19_31</td>\n",
       "    </tr>\n",
       "  </tbody>\n",
       "</table>\n",
       "</div>"
      ],
      "text/plain": [
       "     Unnamed: 0     NAME STATE  STATEFP  COUNTYFP        NAMELSAD  \\\n",
       "266         266  Decatur  Iowa       19        53  Decatur County   \n",
       "267         267  Decatur  Iowa       19        53  Decatur County   \n",
       "368         368    Cedar  Iowa       19        31    Cedar County   \n",
       "369         369    Cedar  Iowa       19        31    Cedar County   \n",
       "370         370    Cedar  Iowa       19        31    Cedar County   \n",
       "\n",
       "                                    POINT   SITE  ST_CT  \n",
       "266    POINT (-93.77731300000001 40.8857)  55562  19_53  \n",
       "267          POINT (-93.557129 40.862282)  55352  19_53  \n",
       "368          POINT (-90.993286 41.851456)  68641  19_31  \n",
       "369           POINT (-91.016632 41.87117)  68898  19_31  \n",
       "370  POINT (-90.96993999999999 41.831738)  68365  19_31  "
      ]
     },
     "execution_count": 5,
     "metadata": {},
     "output_type": "execute_result"
    }
   ],
   "source": [
    "# Select sites from dataframe which match state for download\n",
    "selected_download = to_download.loc[to_download['STATE']== state]\n",
    "print(\"The following will implement the download of {} wind data sites.\".format(len(selected_download)))\n",
    "selected_download.head()"
   ]
  },
  {
   "cell_type": "code",
   "execution_count": 6,
   "metadata": {},
   "outputs": [],
   "source": [
    "# Functions for downloading data\n",
    "def point_download(point, interval, years):\n",
    "    url = 'https://developer.nrel.gov/api/wind-toolkit/v2/wind/wtk-download.csv?'\n",
    "    df = 'tmp'\n",
    "    for yr in range(0,len(years)):\n",
    "        time.sleep(2)\n",
    "        year = years[yr]\n",
    "        params = { 'api_key' : '037P8C9W1gMsO4cNFDFvUYvTDnIhMlA3NSVhXdCC', 'wkt' : point,\n",
    "                   'names' : [year], 'email' : 'julians3.1415@gmail.com', 'interval': interval}\n",
    "        response = requests.get(url, params)\n",
    "        raw_data = StringIO(response.text)\n",
    "        df_yr = pd.read_csv(raw_data, sep = \",\", header=1)\n",
    "        if type(df)==str:\n",
    "            df = df_yr\n",
    "        else:\n",
    "            df = pd.concat([df, df_yr], axis=0)\n",
    "    return df"
   ]
  },
  {
   "cell_type": "code",
   "execution_count": 11,
   "metadata": {},
   "outputs": [
    {
     "name": "stderr",
     "output_type": "stream",
     "text": [
      " 17%|█▋        | 4/23 [12:45<57:51, 182.70s/it]/Users/julianschmitt/opt/anaconda3/envs/pywtk/lib/python2.7/site-packages/ipykernel_launcher.py:16: FutureWarning: Sorting because non-concatenation axis is not aligned. A future version\n",
      "of pandas will change to not sort by default.\n",
      "\n",
      "To accept the future behavior, pass 'sort=False'.\n",
      "\n",
      "To retain the current behavior and silence the warning, pass 'sort=True'.\n",
      "\n",
      "  app.launch_new_instance()\n",
      "100%|██████████| 23/23 [1:17:52<00:00, 203.17s/it]"
     ]
    },
    {
     "name": "stdout",
     "output_type": "stream",
     "text": [
      "CPU times: user 6min 29s, sys: 42.1 s, total: 7min 11s\n",
      "Wall time: 1h 17min 53s\n"
     ]
    },
    {
     "name": "stderr",
     "output_type": "stream",
     "text": [
      "\n"
     ]
    }
   ],
   "source": [
    "%%time\n",
    "# Iterate through dataframe for download (ok to do so because time is within loop)\n",
    "for index in tqdm(range(73+69+84+18,len(selected_download))):\n",
    "    row = selected_download.iloc[index]\n",
    "    state, county, site = row['STATE'], row['NAME'], row['SITE'] # parameters for naming\n",
    "    point = row['POINT'] # extract point for download\n",
    "    df = point_download(point, interval, years)\n",
    "    df.to_csv(\"~/Downloads/Direcho/{}/{}_{}_{}_{}.csv\".format(state, site, state, county, interval)) # save to csv"
   ]
  },
  {
   "cell_type": "markdown",
   "metadata": {},
   "source": [
    "## Meeting 11/6\n",
    "How do we optimiize a damage function so that we get the yield outcome as close as possible. MLR - convert every windspeed into a unit of damage. Look at log yield (fraction of yield). Different yields in different places - accounts for this. As windspeed decreases above 15m a second, take the excess and multiply by $\\beta$ coefficient. Increase 1%/(m/s) per event. Transform windspeed into damages and then sum damages. This is now an accumulated damage. One outcome and one yield. Adjust the rate at which the damage is occuring. "
   ]
  }
 ],
 "metadata": {
  "kernelspec": {
   "display_name": "Python 3",
   "language": "python",
   "name": "python3"
  },
  "language_info": {
   "codemirror_mode": {
    "name": "ipython",
    "version": 2
   },
   "file_extension": ".py",
   "mimetype": "text/x-python",
   "name": "python",
   "nbconvert_exporter": "python",
   "pygments_lexer": "ipython2",
   "version": "2.7.15"
  }
 },
 "nbformat": 4,
 "nbformat_minor": 4
}

{
 "cells": [
  {
   "cell_type": "markdown",
   "metadata": {},
   "source": [
    "## Wind Speed Function\n",
    "we have the following function for determining growing and killing degree days (respectively):\n",
    "$$\n",
    "g(h) = \\begin{cases}\n",
    "0, &h\\leq 10\\\\\n",
    "h-10, &10\\leq h\\leq 28\\\\\n",
    "18, &28 \\leq h\\\\\n",
    "\\end{cases}\n",
    "\\qquad\n",
    "g(h) = \\begin{cases}\n",
    "0, &h \\leq 28 \\\\\n",
    "h-28, &h > 28\n",
    "\\end{cases}\n",
    "$$\n",
    "where the computed value for the mean temperature is then multiplied over the length of the growing season. We will base our initial function for killing wind speeds on a similar formulation:\n",
    "$$g_k(w) = \\begin{cases}\n",
    "0, &w \\leq 15 \\\\\n",
    "w - 15, &w > 15\n",
    "\\end{cases}$$\n",
    "where $t$ is the estimated duration of the event (rounded to the nearest hours).\n",
    "We also might want to compute a \"growing wind\" variable:\n",
    "$$g_g(w) = \\begin{cases}\n",
    "0, &w \\leq 2 \\\\\n",
    "w - 2, &2 \\leq w \\leq 7 \\\\\n",
    "12-w, &w > 7 \\\\\n",
    "0, &w > 12\n",
    "\\end{cases}$$"
   ]
  },
  {
   "cell_type": "markdown",
   "metadata": {},
   "source": [
    "Next steps: run 4th order polynomial in order to determine where the dropoff is \n",
    "Response function - goal is to map temperature to yield. As you move along x it changes the log-yeild response. Take estimated reponse function learned from the data. y = B1 GDD + B2 KDD. \n",
    "Need to include fixed effects and trends. Replace temperature with windspeed. Estimate a polynomial in the windspeed. \n",
    "Include average windspeed up to quadratics \n",
    "Different rows - temperature response function and wind response function \n"
   ]
  },
  {
   "cell_type": "code",
   "execution_count": 1,
   "metadata": {},
   "outputs": [],
   "source": [
    "### Import basic libraries\n",
    "import numpy as np\n",
    "import pandas as pd\n",
    "import sklearn as sk\n",
    "from sklearn.linear_model import LinearRegression\n",
    "from sklearn.metrics import r2_score\n",
    "from sklearn.preprocessing import PolynomialFeatures\n",
    "import matplotlib.pyplot as plt\n",
    "%matplotlib inline\n",
    "import time\n",
    "import glob"
   ]
  },
  {
   "cell_type": "code",
   "execution_count": 11,
   "metadata": {},
   "outputs": [],
   "source": [
    "kill_threshold = 25\n",
    "power = 3\n",
    "def ws_func(w):\n",
    "    if w <= kill_threshold:\n",
    "        return 0\n",
    "    else:\n",
    "        return (w-kill_threshold)**power\n",
    "ws_func_v = np.vectorize(ws_func)\n",
    "\n",
    "def gws_func(w):\n",
    "    return 0\n",
    "#     if w <= 2:\n",
    "#         return 0\n",
    "#     elif w <= 7:\n",
    "#         return w - 2\n",
    "#     elif w <= 12:\n",
    "#         return 12 - w\n",
    "#     else:\n",
    "#         return 0\n",
    "gws_func_v = np.vectorize(gws_func)"
   ]
  },
  {
   "cell_type": "code",
   "execution_count": 3,
   "metadata": {
    "scrolled": true
   },
   "outputs": [],
   "source": [
    "# Let's read in a lot of wind data!\n",
    "county_yield = pd.read_csv(\"../../data/data_yield/USA_county_yield_gsw.csv\")\n",
    "kansas = county_yield.loc[county_yield['State'] == 'KANSAS']\n",
    "filenames = glob.glob('../../direcho_compact/*.csv')"
   ]
  },
  {
   "cell_type": "code",
   "execution_count": 12,
   "metadata": {},
   "outputs": [],
   "source": [
    "def compress_data(height = 'wind_10ms', filenames = filenames):\n",
    "    print(height)\n",
    "    data_all = []\n",
    "    for i in range(len(filenames)):\n",
    "        # Read and get names\n",
    "        wind_i = pd.read_csv(filenames[i])\n",
    "        county_name = filenames[i].split(\"_\")[-2].upper()\n",
    "        county_data = kansas.loc[kansas['County'] == county_name]\n",
    "        # Ensure year has both wind and corn data -only regress on these years (2007-2014)\n",
    "        c_year = county_data[\"Year\"].unique()\n",
    "        w_year = wind_i[\"Year\"].unique()\n",
    "        years = np.intersect1d(c_year, w_year)\n",
    "        county_gs = county_data[county_data[\"Year\"].isin(years)]\n",
    "        wind_gs = wind_i[wind_i[\"Year\"].isin(years)]\n",
    "        wind_gs = wind_gs[(wind_gs[\"Month\"] =< 10) & (wind_gs[\"Month\"] >=4)]\n",
    "        for y in years:\n",
    "            wind_gs_y = wind_gs.loc[wind_gs[\"Year\"] == y]\n",
    "            county_gs_y = county_gs.loc[county_gs[\"Year\"] == y]\n",
    "            w_gs_y = wind_gs_y[height]\n",
    "            #Calculate KWD and GWD value for season\n",
    "            growing_winds = np.sum(gws_func_v(w_gs_y))\n",
    "            killing_winds = np.sum(ws_func_v(w_gs_y))\n",
    "            # Year, County, log-yeild, GDD, KDD\n",
    "            data = np.append(county_gs_y.iloc[:,[1, 5, 12, 14, 15]].values, [growing_winds, killing_winds]).tolist()\n",
    "            data_all.append(data)\n",
    "    return(data_all)\n",
    "def evaluate(data):\n",
    "    data_arr = np.array(data)\n",
    "    ln_yield = data_arr[:,2].astype(np.float64)\n",
    "    covariates = data_arr[:,3:7].astype(np.float64)\n",
    "    #Linear Model\n",
    "    print(\"Linear Model\")\n",
    "    model = LinearRegression()\n",
    "    model.fit(covariates, ln_yield)\n",
    "    y_preds = model.predict(covariates)\n",
    "    print(\"\\tr-squared:\\t\", r2_score(ln_yield, y_preds))\n",
    "    print(\"\\tCoefficients\\t\", model.coef_)\n",
    "    print(\"\\tIntercept:\\t\", model.intercept_)\n",
    "    #Hmm that's not great...let's try a polynomial transform?\n",
    "    print(\"Polynomial Model\")\n",
    "    poly = PolynomialFeatures(3)\n",
    "    cov_poly = poly.fit_transform(covariates[:,-1].reshape(-1,1))\n",
    "    #print(cov_poly)\n",
    "    covariates_poly = np.hstack((covariates[:,0:1], cov_poly))\n",
    "    model = LinearRegression()\n",
    "    model.fit(covariates_poly, ln_yield)\n",
    "    y_preds = model.predict(covariates_poly)\n",
    "    print(\"\\tr-squared:\\t\", r2_score(ln_yield, y_preds))\n",
    "    print(\"\\tCoefficients\\t\", model.coef_)\n",
    "    print(\"\\tIntercept:\\t\", model.intercept_)"
   ]
  },
  {
   "cell_type": "code",
   "execution_count": 13,
   "metadata": {},
   "outputs": [
    {
     "name": "stdout",
     "output_type": "stream",
     "text": [
      "wind_10ms\n",
      "Linear Model\n",
      "\tr-squared: 0.606497866585681\n",
      "\tCoefficients [ 0.02162    -1.17882103  0.         -0.00379882]\n",
      "\tIntercept: 5.114316390074879\n",
      "Polynomial Model\n",
      "\tr-squared:\t 0.3740280194199118\n",
      "\tCoefficients\t [-3.02619131e-01  2.62147888e-15 -1.16730866e-04 -6.56190633e-04\n",
      "  2.59446070e-05]\n",
      "\tIntercept:\t 7.481937677363444\n"
     ]
    }
   ],
   "source": [
    "data_all = compress_data()\n",
    "##wind coefficient is still positive at 40m, 60m, 80m, 100m (error at 120m)\n",
    "evaluate(data_all)"
   ]
  },
  {
   "cell_type": "code",
   "execution_count": 6,
   "metadata": {
    "collapsed": true
   },
   "outputs": [
    {
     "name": "stdout",
     "output_type": "stream",
     "text": [
      "wind speed at 140m (m/s)\n"
     ]
    },
    {
     "name": "stderr",
     "output_type": "stream",
     "text": [
      "C:\\Users\\david\\anaconda3\\lib\\site-packages\\IPython\\core\\interactiveshell.py:3337: DtypeWarning: Columns (40) have mixed types.Specify dtype option on import or set low_memory=False.\n",
      "  if (await self.run_code(code, result,  async_=asy)):\n",
      "C:\\Users\\david\\anaconda3\\lib\\site-packages\\IPython\\core\\interactiveshell.py:3337: DtypeWarning: Columns (40) have mixed types.Specify dtype option on import or set low_memory=False.\n",
      "  if (await self.run_code(code, result,  async_=asy)):\n",
      "C:\\Users\\david\\anaconda3\\lib\\site-packages\\IPython\\core\\interactiveshell.py:3337: DtypeWarning: Columns (40) have mixed types.Specify dtype option on import or set low_memory=False.\n",
      "  if (await self.run_code(code, result,  async_=asy)):\n"
     ]
    },
    {
     "name": "stdout",
     "output_type": "stream",
     "text": [
      "Linear Model\n",
      "\tr-squared: 0.5485441782722307\n",
      "\tCoefficients [-1.49738040e-02 -1.01448181e+00 -2.25592413e-05 -1.47284642e-05]\n",
      "\tIntercept: 5.748358582070504\n",
      "Polynomial Model\n",
      "\tr-squared: 0.3554558710266311\n",
      "\tCoefficients [-2.95944999e-01  4.12367140e-08  7.15642651e-04 -6.46228357e-07\n",
      "  1.63367311e-10]\n",
      "\tIntercept: 7.215668881361662\n"
     ]
    }
   ],
   "source": [
    "data_all = compress_data(height = 'wind speed at 140m (m/s)') #first?\n",
    "evaluate(data_all)"
   ]
  },
  {
   "cell_type": "markdown",
   "metadata": {},
   "source": [
    "The following regressions were performed on compressed 5-minute data."
   ]
  },
  {
   "cell_type": "code",
   "execution_count": 7,
   "metadata": {
    "collapsed": true
   },
   "outputs": [
    {
     "name": "stdout",
     "output_type": "stream",
     "text": [
      "wind_10ms\n",
      "Linear Model\n",
      "\tr-squared: 0.669770714393117\n",
      "\tCoefficients [ 1.72915303e-01 -1.50997608e+00  1.98447620e-05  1.13093654e-02]\n",
      "\tIntercept: 3.38079886553727\n",
      "Polynomial Model\n",
      "\tr-squared: 0.3680440909747744\n",
      "\tCoefficients [-3.47826815e-01 -2.83035043e-15 -4.77219744e-02  3.25273670e-03\n",
      " -6.25148315e-05]\n",
      "\tIntercept: 8.044889928766509\n"
     ]
    }
   ],
   "source": [
    "filenames2 = glob.glob('C:\\\\Users\\\\david\\\\EPSCI_168\\\\data_5\\\\*.csv')\n",
    "data_all2 = compress_data(height = 'wind_10ms', filenames = filenames2)\n",
    "evaluate(data_all2)"
   ]
  },
  {
   "cell_type": "code",
   "execution_count": 15,
   "metadata": {},
   "outputs": [
    {
     "name": "stdout",
     "output_type": "stream",
     "text": [
      "wind_100ms\n",
      "Linear Model\n",
      "\tr-squared: 0.614533752509945\n",
      "\tCoefficients [ 3.15017309e-02 -1.18805784e+00  0.00000000e+00  6.86814991e-05]\n",
      "\tIntercept: 5.007172877609628\n",
      "Polynomial Model\n",
      "\tr-squared:\t 0.3826499262096752\n",
      "\tCoefficients\t [-3.04291280e-01  8.12780926e-09 -1.51800235e-04  1.82618206e-07\n",
      " -3.53610814e-11]\n",
      "\tIntercept:\t 7.498810926716393\n"
     ]
    }
   ],
   "source": [
    "data_all2 = compress_data(height = 'wind_100ms', filenames = filenames)\n",
    "evaluate(data_all2)"
   ]
  },
  {
   "cell_type": "code",
   "execution_count": 18,
   "metadata": {},
   "outputs": [
    {
     "data": {
      "text/plain": [
       "Unnamed: 0      int64\n",
       "Year            int64\n",
       "Month           int64\n",
       "Day             int64\n",
       "Hour            int64\n",
       "wind_10ms     float64\n",
       "wind_40ms     float64\n",
       "wind_100ms    float64\n",
       "temp_100      float64\n",
       "dtype: object"
      ]
     },
     "execution_count": 18,
     "metadata": {},
     "output_type": "execute_result"
    }
   ],
   "source": [
    "test = pd.read_csv(filenames[0]).dtypes\n",
    "test"
   ]
  },
  {
   "cell_type": "code",
   "execution_count": null,
   "metadata": {},
   "outputs": [],
   "source": [
    "print(\"test\")"
   ]
  },
  {
   "cell_type": "code",
   "execution_count": null,
   "metadata": {},
   "outputs": [],
   "source": []
  }
 ],
 "metadata": {
  "kernelspec": {
   "display_name": "Python 3",
   "language": "python",
   "name": "python3"
  },
  "language_info": {
   "codemirror_mode": {
    "name": "ipython",
    "version": 3
   },
   "file_extension": ".py",
   "mimetype": "text/x-python",
   "name": "python",
   "nbconvert_exporter": "python",
   "pygments_lexer": "ipython3",
   "version": "3.8.3"
  }
 },
 "nbformat": 4,
 "nbformat_minor": 4
}

{
 "cells": [
  {
   "cell_type": "code",
   "execution_count": 1,
   "metadata": {},
   "outputs": [],
   "source": [
    "# Useful Libraries\n",
    "import numpy as np\n",
    "import pandas as pd\n",
    "import sklearn as sk\n",
    "from sklearn.linear_model import LinearRegression\n",
    "from sklearn.metrics import mean_squared_error\n",
    "from sklearn.model_selection import train_test_split\n",
    "from sklearn import preprocessing\n",
    "from sklearn.preprocessing import PolynomialFeatures\n",
    "from sklearn.metrics import mean_squared_error\n",
    "from sklearn.metrics import r2_score\n",
    "import matplotlib.pyplot as plt\n",
    "import requests\n",
    "%matplotlib inline"
   ]
  },
  {
   "cell_type": "code",
   "execution_count": 2,
   "metadata": {},
   "outputs": [],
   "source": [
    "# Reading data\n",
    "county_yield = 'https://raw.githubusercontent.com/davidwma22/EPS-168/master/USA_county_yield_gsw.csv'\n",
    "data = pd.read_csv(county_yield)\n",
    "w7 = 'https://raw.githubusercontent.com/davidwma22/EPS-168/master/wind_2007.csv'\n",
    "wind07 = pd.read_csv(w7, skiprows = 1)\n",
    "w8 = 'https://raw.githubusercontent.com/davidwma22/EPS-168/master/wind_2008.csv'\n",
    "wind08 = pd.read_csv(w8, skiprows = 1)\n",
    "w9 = 'https://raw.githubusercontent.com/davidwma22/EPS-168/master/wind_2009.csv'\n",
    "wind09 = pd.read_csv(w9, skiprows = 1)\n",
    "w10 = 'https://raw.githubusercontent.com/davidwma22/EPS-168/master/wind_2010.csv'\n",
    "wind10 = pd.read_csv(w10, skiprows = 1)\n",
    "w11 = 'https://raw.githubusercontent.com/davidwma22/EPS-168/master/wind_2011.csv'\n",
    "wind11 = pd.read_csv(w11, skiprows = 1)\n",
    "w12 = 'https://raw.githubusercontent.com/davidwma22/EPS-168/master/wind_2012.csv'\n",
    "wind12 = pd.read_csv(w12, skiprows = 1)"
   ]
  },
  {
   "cell_type": "code",
   "execution_count": 3,
   "metadata": {},
   "outputs": [],
   "source": [
    "! GET /api/wind-toolkit/v2/wind/wtk-download.csv?api_key={{037P8C9W1gMsO4cNFDFvUYvTDnIhMlA3NSVhXdCC}}&wkt=POINT\\(-78.483215 32.104233\\)&attributes=&names=2009&utc=true&email=julians3.1415@gmail.com"
   ]
  },
  {
   "cell_type": "code",
   "execution_count": 4,
   "metadata": {},
   "outputs": [],
   "source": [
    "! GET /api/wind-toolkit/v2/wind/wtk-download.csv?api_key={{037P8C9W1gMsO4cNFDFvUYvTDnIhMlA3NSVhXdCC}}&wkt=POINT\\(\\(46 -104, 46 -88, 30 -88, 30 -104\\)\\)&attributes=&names=2009&utc=true&email=julians3.1415@gmail.com"
   ]
  },
  {
   "cell_type": "code",
   "execution_count": 5,
   "metadata": {},
   "outputs": [],
   "source": [
    "wkt = POLYGON((46 -104, 46 -88, 30 -88, 30 -104))\n",
    "wkt = POLYGON((46 -104, 46 -102, 44 -102, 44 -104))"
   ]
  },
  {
   "cell_type": "code",
   "execution_count": 27,
   "metadata": {},
   "outputs": [],
   "source": [
    "response = requests.get(\"https://developer.nrel.gov/api/wind-toolkit/v2/wind/wtk-download.csv?api_key={{037P8C9W1gMsO4cNFDFvUYvTDnIhMlA3NSVhXdCC}}&037P8C9W1gMsO4cNFDFvUYvTDnIhMlA3NSVhXdCCwkt=POLYGON%28%28-94.60052490234375+39.74732195489861%2C-94.21600341796875+39.74732195489861%2C-94.21600341796875+39.457402514270825%2C-94.60052490234375+39.457402514270825%2C-94.60052490234375+39.74732195489861%29%29&attributes=&names=2009&utc=true&email=julians3.1415@gmail.com\")"
   ]
  },
  {
   "cell_type": "code",
   "execution_count": 28,
   "metadata": {},
   "outputs": [
    {
     "name": "stdout",
     "output_type": "stream",
     "text": [
      "403\n"
     ]
    }
   ],
   "source": [
    "print(response.status_code)"
   ]
  },
  {
   "cell_type": "code",
   "execution_count": 24,
   "metadata": {},
   "outputs": [
    {
     "name": "stdout",
     "output_type": "stream",
     "text": [
      "403\n"
     ]
    }
   ],
   "source": [
    "response = requests.get(\"https://developer.nrel.gov/api/wind-toolkit/v2/wind/wtk-download.csv?api_key={{yMDVMKtCa4FGh2vmvstXY8ZDZbWKqBl2vddmnKZg}}&wkt=POINT(32.104233 -78.483215)&names=2009&utc=true&leap_day=true&email=davidwma@yahoo.com\")\n",
    "print(response.status_code)"
   ]
  },
  {
   "cell_type": "code",
   "execution_count": 10,
   "metadata": {},
   "outputs": [],
   "source": [
    "# Let's start with Marion County, Kansas\n",
    "marion = data.loc[(data['State'] == 'KANSAS') & (data['County'] == 'MARION')]"
   ]
  },
  {
   "cell_type": "code",
   "execution_count": 11,
   "metadata": {},
   "outputs": [
    {
     "data": {
      "text/html": [
       "<div>\n",
       "<style scoped>\n",
       "    .dataframe tbody tr th:only-of-type {\n",
       "        vertical-align: middle;\n",
       "    }\n",
       "\n",
       "    .dataframe tbody tr th {\n",
       "        vertical-align: top;\n",
       "    }\n",
       "\n",
       "    .dataframe thead th {\n",
       "        text-align: right;\n",
       "    }\n",
       "</style>\n",
       "<table border=\"1\" class=\"dataframe\">\n",
       "  <thead>\n",
       "    <tr style=\"text-align: right;\">\n",
       "      <th></th>\n",
       "      <th>GEOID</th>\n",
       "      <th>Year</th>\n",
       "      <th>Year_2</th>\n",
       "      <th>State</th>\n",
       "      <th>State_ANSI</th>\n",
       "      <th>County</th>\n",
       "      <th>County_ANSI</th>\n",
       "      <th>lat</th>\n",
       "      <th>lon</th>\n",
       "      <th>Commodity</th>\n",
       "      <th>...</th>\n",
       "      <th>ln_yield</th>\n",
       "      <th>tmean</th>\n",
       "      <th>gdd_10_28</th>\n",
       "      <th>kdd_28</th>\n",
       "      <th>ppt</th>\n",
       "      <th>swdown</th>\n",
       "      <th>smrz</th>\n",
       "      <th>smrz_2</th>\n",
       "      <th>ppt_2</th>\n",
       "      <th>swdown_2</th>\n",
       "    </tr>\n",
       "  </thead>\n",
       "  <tbody>\n",
       "    <tr>\n",
       "      <th>4980</th>\n",
       "      <td>20115</td>\n",
       "      <td>2000</td>\n",
       "      <td>4000000.0</td>\n",
       "      <td>KANSAS</td>\n",
       "      <td>20.0</td>\n",
       "      <td>MARION</td>\n",
       "      <td>115.0</td>\n",
       "      <td>38.359647</td>\n",
       "      <td>-97.102771</td>\n",
       "      <td>CORN</td>\n",
       "      <td>...</td>\n",
       "      <td>4.465908</td>\n",
       "      <td>19.706800</td>\n",
       "      <td>9.709944</td>\n",
       "      <td>0.962113</td>\n",
       "      <td>2.209874</td>\n",
       "      <td>5.871472</td>\n",
       "      <td>NaN</td>\n",
       "      <td>NaN</td>\n",
       "      <td>33.723801</td>\n",
       "      <td>38.177426</td>\n",
       "    </tr>\n",
       "    <tr>\n",
       "      <th>4981</th>\n",
       "      <td>20115</td>\n",
       "      <td>2001</td>\n",
       "      <td>4004001.0</td>\n",
       "      <td>KANSAS</td>\n",
       "      <td>20.0</td>\n",
       "      <td>MARION</td>\n",
       "      <td>115.0</td>\n",
       "      <td>38.359647</td>\n",
       "      <td>-97.102771</td>\n",
       "      <td>CORN</td>\n",
       "      <td>...</td>\n",
       "      <td>4.234107</td>\n",
       "      <td>19.501589</td>\n",
       "      <td>9.857521</td>\n",
       "      <td>0.890085</td>\n",
       "      <td>2.711690</td>\n",
       "      <td>5.979047</td>\n",
       "      <td>NaN</td>\n",
       "      <td>NaN</td>\n",
       "      <td>59.479359</td>\n",
       "      <td>39.551400</td>\n",
       "    </tr>\n",
       "    <tr>\n",
       "      <th>4982</th>\n",
       "      <td>20115</td>\n",
       "      <td>2002</td>\n",
       "      <td>4008004.0</td>\n",
       "      <td>KANSAS</td>\n",
       "      <td>20.0</td>\n",
       "      <td>MARION</td>\n",
       "      <td>115.0</td>\n",
       "      <td>38.359647</td>\n",
       "      <td>-97.102771</td>\n",
       "      <td>CORN</td>\n",
       "      <td>...</td>\n",
       "      <td>4.060443</td>\n",
       "      <td>18.680007</td>\n",
       "      <td>9.481026</td>\n",
       "      <td>0.749693</td>\n",
       "      <td>2.815333</td>\n",
       "      <td>5.839116</td>\n",
       "      <td>NaN</td>\n",
       "      <td>NaN</td>\n",
       "      <td>58.698514</td>\n",
       "      <td>37.686423</td>\n",
       "    </tr>\n",
       "    <tr>\n",
       "      <th>4983</th>\n",
       "      <td>20115</td>\n",
       "      <td>2003</td>\n",
       "      <td>4012009.0</td>\n",
       "      <td>KANSAS</td>\n",
       "      <td>20.0</td>\n",
       "      <td>MARION</td>\n",
       "      <td>115.0</td>\n",
       "      <td>38.359647</td>\n",
       "      <td>-97.102771</td>\n",
       "      <td>CORN</td>\n",
       "      <td>...</td>\n",
       "      <td>4.234107</td>\n",
       "      <td>19.003495</td>\n",
       "      <td>9.420483</td>\n",
       "      <td>0.861348</td>\n",
       "      <td>3.349504</td>\n",
       "      <td>5.800624</td>\n",
       "      <td>NaN</td>\n",
       "      <td>NaN</td>\n",
       "      <td>94.260118</td>\n",
       "      <td>37.495716</td>\n",
       "    </tr>\n",
       "    <tr>\n",
       "      <th>4984</th>\n",
       "      <td>20115</td>\n",
       "      <td>2004</td>\n",
       "      <td>4016016.0</td>\n",
       "      <td>KANSAS</td>\n",
       "      <td>20.0</td>\n",
       "      <td>MARION</td>\n",
       "      <td>115.0</td>\n",
       "      <td>38.359647</td>\n",
       "      <td>-97.102771</td>\n",
       "      <td>CORN</td>\n",
       "      <td>...</td>\n",
       "      <td>4.859812</td>\n",
       "      <td>18.395759</td>\n",
       "      <td>8.905033</td>\n",
       "      <td>0.367217</td>\n",
       "      <td>3.840765</td>\n",
       "      <td>5.805263</td>\n",
       "      <td>NaN</td>\n",
       "      <td>NaN</td>\n",
       "      <td>115.605059</td>\n",
       "      <td>37.433886</td>\n",
       "    </tr>\n",
       "  </tbody>\n",
       "</table>\n",
       "<p>5 rows × 22 columns</p>\n",
       "</div>"
      ],
      "text/plain": [
       "      GEOID  Year     Year_2   State  State_ANSI  County  County_ANSI  \\\n",
       "4980  20115  2000  4000000.0  KANSAS        20.0  MARION        115.0   \n",
       "4981  20115  2001  4004001.0  KANSAS        20.0  MARION        115.0   \n",
       "4982  20115  2002  4008004.0  KANSAS        20.0  MARION        115.0   \n",
       "4983  20115  2003  4012009.0  KANSAS        20.0  MARION        115.0   \n",
       "4984  20115  2004  4016016.0  KANSAS        20.0  MARION        115.0   \n",
       "\n",
       "            lat        lon Commodity  ...  ln_yield      tmean  gdd_10_28  \\\n",
       "4980  38.359647 -97.102771      CORN  ...  4.465908  19.706800   9.709944   \n",
       "4981  38.359647 -97.102771      CORN  ...  4.234107  19.501589   9.857521   \n",
       "4982  38.359647 -97.102771      CORN  ...  4.060443  18.680007   9.481026   \n",
       "4983  38.359647 -97.102771      CORN  ...  4.234107  19.003495   9.420483   \n",
       "4984  38.359647 -97.102771      CORN  ...  4.859812  18.395759   8.905033   \n",
       "\n",
       "        kdd_28       ppt    swdown  smrz  smrz_2       ppt_2   swdown_2  \n",
       "4980  0.962113  2.209874  5.871472   NaN     NaN   33.723801  38.177426  \n",
       "4981  0.890085  2.711690  5.979047   NaN     NaN   59.479359  39.551400  \n",
       "4982  0.749693  2.815333  5.839116   NaN     NaN   58.698514  37.686423  \n",
       "4983  0.861348  3.349504  5.800624   NaN     NaN   94.260118  37.495716  \n",
       "4984  0.367217  3.840765  5.805263   NaN     NaN  115.605059  37.433886  \n",
       "\n",
       "[5 rows x 22 columns]"
      ]
     },
     "execution_count": 11,
     "metadata": {},
     "output_type": "execute_result"
    }
   ],
   "source": [
    "marion.head(5)"
   ]
  },
  {
   "cell_type": "code",
   "execution_count": 12,
   "metadata": {},
   "outputs": [
    {
     "name": "stdout",
     "output_type": "stream",
     "text": [
      "[[1.24195489]]\n"
     ]
    },
    {
     "data": {
      "image/png": "[encoded data removed]",
      "text/plain": [
       "<Figure size 432x288 with 1 Axes>"
      ]
     },
     "metadata": {
      "needs_background": "light"
     },
     "output_type": "display_data"
    }
   ],
   "source": [
    "x = marion['Year'].values.reshape(-1,1)\n",
    "y = marion['yield'].values.reshape(-1,1)\n",
    "\n",
    "lr = LinearRegression().fit(x,y)\n",
    "\n",
    "x_range = np.linspace(min(x), max(x), num=100)\n",
    "y_pred = lr.predict(x_range)\n",
    "plt.scatter(x,y)\n",
    "plt.scatter(x_range, y_pred)\n",
    "plt.title('Marion County Yields')\n",
    "plt.xlabel('Year')\n",
    "plt.ylabel('Yield (bushels per acre)')\n",
    "print(lr.coef_)\n"
   ]
  },
  {
   "cell_type": "code",
   "execution_count": 13,
   "metadata": {},
   "outputs": [],
   "source": [
    "w_all = pd.concat([wind07,wind08, wind09, wind10, wind11, wind12], axis=0)\n"
   ]
  },
  {
   "cell_type": "code",
   "execution_count": 14,
   "metadata": {},
   "outputs": [
    {
     "data": {
      "text/html": [
       "<div>\n",
       "<style scoped>\n",
       "    .dataframe tbody tr th:only-of-type {\n",
       "        vertical-align: middle;\n",
       "    }\n",
       "\n",
       "    .dataframe tbody tr th {\n",
       "        vertical-align: top;\n",
       "    }\n",
       "\n",
       "    .dataframe thead th {\n",
       "        text-align: right;\n",
       "    }\n",
       "</style>\n",
       "<table border=\"1\" class=\"dataframe\">\n",
       "  <thead>\n",
       "    <tr style=\"text-align: right;\">\n",
       "      <th></th>\n",
       "      <th>Year</th>\n",
       "      <th>Month</th>\n",
       "      <th>Day</th>\n",
       "      <th>Hour</th>\n",
       "      <th>Minute</th>\n",
       "      <th>power - DEPRECATED</th>\n",
       "      <th>wind direction at 100m (deg)</th>\n",
       "      <th>wind speed at 100m (m/s)</th>\n",
       "      <th>air temperature at 100m (C)</th>\n",
       "      <th>air pressure at 100m (Pa)</th>\n",
       "      <th>density - DEPRECATED</th>\n",
       "    </tr>\n",
       "  </thead>\n",
       "  <tbody>\n",
       "    <tr>\n",
       "      <th>0</th>\n",
       "      <td>2007</td>\n",
       "      <td>1</td>\n",
       "      <td>1</td>\n",
       "      <td>0</td>\n",
       "      <td>0</td>\n",
       "      <td>NaN</td>\n",
       "      <td>325.93</td>\n",
       "      <td>10.59</td>\n",
       "      <td>-2.68</td>\n",
       "      <td>95980</td>\n",
       "      <td>NaN</td>\n",
       "    </tr>\n",
       "    <tr>\n",
       "      <th>1</th>\n",
       "      <td>2007</td>\n",
       "      <td>1</td>\n",
       "      <td>1</td>\n",
       "      <td>0</td>\n",
       "      <td>5</td>\n",
       "      <td>NaN</td>\n",
       "      <td>326.17</td>\n",
       "      <td>10.59</td>\n",
       "      <td>-2.71</td>\n",
       "      <td>95980</td>\n",
       "      <td>NaN</td>\n",
       "    </tr>\n",
       "    <tr>\n",
       "      <th>2</th>\n",
       "      <td>2007</td>\n",
       "      <td>1</td>\n",
       "      <td>1</td>\n",
       "      <td>0</td>\n",
       "      <td>10</td>\n",
       "      <td>NaN</td>\n",
       "      <td>325.56</td>\n",
       "      <td>10.43</td>\n",
       "      <td>-2.75</td>\n",
       "      <td>95990</td>\n",
       "      <td>NaN</td>\n",
       "    </tr>\n",
       "    <tr>\n",
       "      <th>3</th>\n",
       "      <td>2007</td>\n",
       "      <td>1</td>\n",
       "      <td>1</td>\n",
       "      <td>0</td>\n",
       "      <td>15</td>\n",
       "      <td>NaN</td>\n",
       "      <td>325.53</td>\n",
       "      <td>10.24</td>\n",
       "      <td>-2.79</td>\n",
       "      <td>96000</td>\n",
       "      <td>NaN</td>\n",
       "    </tr>\n",
       "    <tr>\n",
       "      <th>4</th>\n",
       "      <td>2007</td>\n",
       "      <td>1</td>\n",
       "      <td>1</td>\n",
       "      <td>0</td>\n",
       "      <td>20</td>\n",
       "      <td>NaN</td>\n",
       "      <td>325.73</td>\n",
       "      <td>10.14</td>\n",
       "      <td>-2.83</td>\n",
       "      <td>96010</td>\n",
       "      <td>NaN</td>\n",
       "    </tr>\n",
       "    <tr>\n",
       "      <th>...</th>\n",
       "      <td>...</td>\n",
       "      <td>...</td>\n",
       "      <td>...</td>\n",
       "      <td>...</td>\n",
       "      <td>...</td>\n",
       "      <td>...</td>\n",
       "      <td>...</td>\n",
       "      <td>...</td>\n",
       "      <td>...</td>\n",
       "      <td>...</td>\n",
       "      <td>...</td>\n",
       "    </tr>\n",
       "    <tr>\n",
       "      <th>105115</th>\n",
       "      <td>2012</td>\n",
       "      <td>12</td>\n",
       "      <td>31</td>\n",
       "      <td>23</td>\n",
       "      <td>35</td>\n",
       "      <td>NaN</td>\n",
       "      <td>308.96</td>\n",
       "      <td>15.57</td>\n",
       "      <td>5.69</td>\n",
       "      <td>95830</td>\n",
       "      <td>NaN</td>\n",
       "    </tr>\n",
       "    <tr>\n",
       "      <th>105116</th>\n",
       "      <td>2012</td>\n",
       "      <td>12</td>\n",
       "      <td>31</td>\n",
       "      <td>23</td>\n",
       "      <td>40</td>\n",
       "      <td>NaN</td>\n",
       "      <td>311.97</td>\n",
       "      <td>15.86</td>\n",
       "      <td>5.59</td>\n",
       "      <td>95840</td>\n",
       "      <td>NaN</td>\n",
       "    </tr>\n",
       "    <tr>\n",
       "      <th>105117</th>\n",
       "      <td>2012</td>\n",
       "      <td>12</td>\n",
       "      <td>31</td>\n",
       "      <td>23</td>\n",
       "      <td>45</td>\n",
       "      <td>NaN</td>\n",
       "      <td>314.89</td>\n",
       "      <td>16.34</td>\n",
       "      <td>5.54</td>\n",
       "      <td>95860</td>\n",
       "      <td>NaN</td>\n",
       "    </tr>\n",
       "    <tr>\n",
       "      <th>105118</th>\n",
       "      <td>2012</td>\n",
       "      <td>12</td>\n",
       "      <td>31</td>\n",
       "      <td>23</td>\n",
       "      <td>50</td>\n",
       "      <td>NaN</td>\n",
       "      <td>316.88</td>\n",
       "      <td>16.94</td>\n",
       "      <td>5.55</td>\n",
       "      <td>95880</td>\n",
       "      <td>NaN</td>\n",
       "    </tr>\n",
       "    <tr>\n",
       "      <th>105119</th>\n",
       "      <td>2012</td>\n",
       "      <td>12</td>\n",
       "      <td>31</td>\n",
       "      <td>23</td>\n",
       "      <td>55</td>\n",
       "      <td>NaN</td>\n",
       "      <td>317.88</td>\n",
       "      <td>17.24</td>\n",
       "      <td>5.52</td>\n",
       "      <td>95890</td>\n",
       "      <td>NaN</td>\n",
       "    </tr>\n",
       "  </tbody>\n",
       "</table>\n",
       "<p>630720 rows × 11 columns</p>\n",
       "</div>"
      ],
      "text/plain": [
       "        Year  Month  Day  Hour  Minute  power - DEPRECATED  \\\n",
       "0       2007      1    1     0       0                 NaN   \n",
       "1       2007      1    1     0       5                 NaN   \n",
       "2       2007      1    1     0      10                 NaN   \n",
       "3       2007      1    1     0      15                 NaN   \n",
       "4       2007      1    1     0      20                 NaN   \n",
       "...      ...    ...  ...   ...     ...                 ...   \n",
       "105115  2012     12   31    23      35                 NaN   \n",
       "105116  2012     12   31    23      40                 NaN   \n",
       "105117  2012     12   31    23      45                 NaN   \n",
       "105118  2012     12   31    23      50                 NaN   \n",
       "105119  2012     12   31    23      55                 NaN   \n",
       "\n",
       "        wind direction at 100m (deg)  wind speed at 100m (m/s)  \\\n",
       "0                             325.93                     10.59   \n",
       "1                             326.17                     10.59   \n",
       "2                             325.56                     10.43   \n",
       "3                             325.53                     10.24   \n",
       "4                             325.73                     10.14   \n",
       "...                              ...                       ...   \n",
       "105115                        308.96                     15.57   \n",
       "105116                        311.97                     15.86   \n",
       "105117                        314.89                     16.34   \n",
       "105118                        316.88                     16.94   \n",
       "105119                        317.88                     17.24   \n",
       "\n",
       "        air temperature at 100m (C)  air pressure at 100m (Pa)  \\\n",
       "0                             -2.68                      95980   \n",
       "1                             -2.71                      95980   \n",
       "2                             -2.75                      95990   \n",
       "3                             -2.79                      96000   \n",
       "4                             -2.83                      96010   \n",
       "...                             ...                        ...   \n",
       "105115                         5.69                      95830   \n",
       "105116                         5.59                      95840   \n",
       "105117                         5.54                      95860   \n",
       "105118                         5.55                      95880   \n",
       "105119                         5.52                      95890   \n",
       "\n",
       "        density - DEPRECATED  \n",
       "0                        NaN  \n",
       "1                        NaN  \n",
       "2                        NaN  \n",
       "3                        NaN  \n",
       "4                        NaN  \n",
       "...                      ...  \n",
       "105115                   NaN  \n",
       "105116                   NaN  \n",
       "105117                   NaN  \n",
       "105118                   NaN  \n",
       "105119                   NaN  \n",
       "\n",
       "[630720 rows x 11 columns]"
      ]
     },
     "execution_count": 14,
     "metadata": {},
     "output_type": "execute_result"
    }
   ],
   "source": [
    "w_all"
   ]
  },
  {
   "cell_type": "code",
   "execution_count": 15,
   "metadata": {},
   "outputs": [],
   "source": [
    "speed = [x[0]*2.237 for x in w_all['wind speed at 100m (m/s)'].values.reshape(-1,1) if x> 50/2.237]\n",
    "years = []\n",
    "x_range = np.linspace(0, len(speed), len(speed))"
   ]
  },
  {
   "cell_type": "code",
   "execution_count": 16,
   "metadata": {},
   "outputs": [
    {
     "data": {
      "text/plain": [
       "(array([32., 18.,  4.,  0.,  2.,  1.,  0.,  0.,  0.,  1.]),\n",
       " array([50.01932 , 54.164481, 58.309642, 62.454803, 66.599964, 70.745125,\n",
       "        74.890286, 79.035447, 83.180608, 87.325769, 91.47093 ]),\n",
       " <a list of 10 Patch objects>)"
      ]
     },
     "execution_count": 16,
     "metadata": {},
     "output_type": "execute_result"
    },
    {
     "data": {
      "image/png": "[encoded data removed]",
      "text/plain": [
       "<Figure size 432x288 with 1 Axes>"
      ]
     },
     "metadata": {
      "needs_background": "light"
     },
     "output_type": "display_data"
    }
   ],
   "source": [
    "plt.hist(speed)"
   ]
  },
  {
   "cell_type": "code",
   "execution_count": 17,
   "metadata": {},
   "outputs": [
    {
     "data": {
      "text/plain": [
       "[50.06406,\n",
       " 51.09308,\n",
       " 55.96974,\n",
       " 53.73274,\n",
       " 54.67228000000001,\n",
       " 57.22246,\n",
       " 57.0435,\n",
       " 56.30529000000001,\n",
       " 52.793200000000006]"
      ]
     },
     "execution_count": 17,
     "metadata": {},
     "output_type": "execute_result"
    }
   ],
   "source": [
    "speed[1:10]"
   ]
  },
  {
   "cell_type": "code",
   "execution_count": 18,
   "metadata": {},
   "outputs": [],
   "source": [
    "def rand_jitter(arr):\n",
    "    stdev = .02*(max(arr)-min(arr))\n",
    "    return arr + np.random.randn(len(arr)) * stdev"
   ]
  },
  {
   "cell_type": "code",
   "execution_count": 19,
   "metadata": {},
   "outputs": [
    {
     "ename": "ValueError",
     "evalue": "x and y must be the same size",
     "output_type": "error",
     "traceback": [
      "\u001b[0;31m---------------------------------------------------------------------------\u001b[0m",
      "\u001b[0;31mValueError\u001b[0m                                Traceback (most recent call last)",
      "\u001b[0;32m<ipython-input-19-d15bcd56117f>\u001b[0m in \u001b[0;36m<module>\u001b[0;34m\u001b[0m\n\u001b[1;32m      5\u001b[0m \u001b[0mplt\u001b[0m\u001b[0;34m.\u001b[0m\u001b[0mscatter\u001b[0m\u001b[0;34m(\u001b[0m\u001b[0myears\u001b[0m\u001b[0;34m,\u001b[0m \u001b[0mspeed\u001b[0m\u001b[0;34m,\u001b[0m \u001b[0mcolor\u001b[0m \u001b[0;34m=\u001b[0m \u001b[0;34m'r'\u001b[0m\u001b[0;34m)\u001b[0m\u001b[0;34m\u001b[0m\u001b[0;34m\u001b[0m\u001b[0m\n\u001b[1;32m      6\u001b[0m \u001b[0mplt\u001b[0m\u001b[0;34m.\u001b[0m\u001b[0mscatter\u001b[0m\u001b[0;34m(\u001b[0m\u001b[0mx\u001b[0m\u001b[0;34m,\u001b[0m\u001b[0my\u001b[0m\u001b[0;34m)\u001b[0m\u001b[0;34m\u001b[0m\u001b[0;34m\u001b[0m\u001b[0m\n\u001b[0;32m----> 7\u001b[0;31m \u001b[0mplt\u001b[0m\u001b[0;34m.\u001b[0m\u001b[0mscatter\u001b[0m\u001b[0;34m(\u001b[0m\u001b[0mx_range\u001b[0m\u001b[0;34m,\u001b[0m \u001b[0my_pred\u001b[0m\u001b[0;34m)\u001b[0m\u001b[0;34m\u001b[0m\u001b[0;34m\u001b[0m\u001b[0m\n\u001b[0m\u001b[1;32m      8\u001b[0m \u001b[0mplt\u001b[0m\u001b[0;34m.\u001b[0m\u001b[0mtitle\u001b[0m\u001b[0;34m(\u001b[0m\u001b[0;34m'Marion County Yields'\u001b[0m\u001b[0;34m)\u001b[0m\u001b[0;34m\u001b[0m\u001b[0;34m\u001b[0m\u001b[0m\n\u001b[1;32m      9\u001b[0m \u001b[0mplt\u001b[0m\u001b[0;34m.\u001b[0m\u001b[0mxlabel\u001b[0m\u001b[0;34m(\u001b[0m\u001b[0;34m'Year'\u001b[0m\u001b[0;34m)\u001b[0m\u001b[0;34m\u001b[0m\u001b[0;34m\u001b[0m\u001b[0m\n",
      "\u001b[0;32m~/opt/anaconda3/lib/python3.8/site-packages/matplotlib/pyplot.py\u001b[0m in \u001b[0;36mscatter\u001b[0;34m(x, y, s, c, marker, cmap, norm, vmin, vmax, alpha, linewidths, verts, edgecolors, plotnonfinite, data, **kwargs)\u001b[0m\n\u001b[1;32m   2809\u001b[0m         \u001b[0mverts\u001b[0m\u001b[0;34m=\u001b[0m\u001b[0mcbook\u001b[0m\u001b[0;34m.\u001b[0m\u001b[0mdeprecation\u001b[0m\u001b[0;34m.\u001b[0m\u001b[0m_deprecated_parameter\u001b[0m\u001b[0;34m,\u001b[0m\u001b[0;34m\u001b[0m\u001b[0;34m\u001b[0m\u001b[0m\n\u001b[1;32m   2810\u001b[0m         edgecolors=None, *, plotnonfinite=False, data=None, **kwargs):\n\u001b[0;32m-> 2811\u001b[0;31m     __ret = gca().scatter(\n\u001b[0m\u001b[1;32m   2812\u001b[0m         \u001b[0mx\u001b[0m\u001b[0;34m,\u001b[0m \u001b[0my\u001b[0m\u001b[0;34m,\u001b[0m \u001b[0ms\u001b[0m\u001b[0;34m=\u001b[0m\u001b[0ms\u001b[0m\u001b[0;34m,\u001b[0m \u001b[0mc\u001b[0m\u001b[0;34m=\u001b[0m\u001b[0mc\u001b[0m\u001b[0;34m,\u001b[0m \u001b[0mmarker\u001b[0m\u001b[0;34m=\u001b[0m\u001b[0mmarker\u001b[0m\u001b[0;34m,\u001b[0m \u001b[0mcmap\u001b[0m\u001b[0;34m=\u001b[0m\u001b[0mcmap\u001b[0m\u001b[0;34m,\u001b[0m \u001b[0mnorm\u001b[0m\u001b[0;34m=\u001b[0m\u001b[0mnorm\u001b[0m\u001b[0;34m,\u001b[0m\u001b[0;34m\u001b[0m\u001b[0;34m\u001b[0m\u001b[0m\n\u001b[1;32m   2813\u001b[0m         \u001b[0mvmin\u001b[0m\u001b[0;34m=\u001b[0m\u001b[0mvmin\u001b[0m\u001b[0;34m,\u001b[0m \u001b[0mvmax\u001b[0m\u001b[0;34m=\u001b[0m\u001b[0mvmax\u001b[0m\u001b[0;34m,\u001b[0m \u001b[0malpha\u001b[0m\u001b[0;34m=\u001b[0m\u001b[0malpha\u001b[0m\u001b[0;34m,\u001b[0m \u001b[0mlinewidths\u001b[0m\u001b[0;34m=\u001b[0m\u001b[0mlinewidths\u001b[0m\u001b[0;34m,\u001b[0m\u001b[0;34m\u001b[0m\u001b[0;34m\u001b[0m\u001b[0m\n",
      "\u001b[0;32m~/opt/anaconda3/lib/python3.8/site-packages/matplotlib/__init__.py\u001b[0m in \u001b[0;36minner\u001b[0;34m(ax, data, *args, **kwargs)\u001b[0m\n\u001b[1;32m   1563\u001b[0m     \u001b[0;32mdef\u001b[0m \u001b[0minner\u001b[0m\u001b[0;34m(\u001b[0m\u001b[0max\u001b[0m\u001b[0;34m,\u001b[0m \u001b[0;34m*\u001b[0m\u001b[0margs\u001b[0m\u001b[0;34m,\u001b[0m \u001b[0mdata\u001b[0m\u001b[0;34m=\u001b[0m\u001b[0;32mNone\u001b[0m\u001b[0;34m,\u001b[0m \u001b[0;34m**\u001b[0m\u001b[0mkwargs\u001b[0m\u001b[0;34m)\u001b[0m\u001b[0;34m:\u001b[0m\u001b[0;34m\u001b[0m\u001b[0;34m\u001b[0m\u001b[0m\n\u001b[1;32m   1564\u001b[0m         \u001b[0;32mif\u001b[0m \u001b[0mdata\u001b[0m \u001b[0;32mis\u001b[0m \u001b[0;32mNone\u001b[0m\u001b[0;34m:\u001b[0m\u001b[0;34m\u001b[0m\u001b[0;34m\u001b[0m\u001b[0m\n\u001b[0;32m-> 1565\u001b[0;31m             \u001b[0;32mreturn\u001b[0m \u001b[0mfunc\u001b[0m\u001b[0;34m(\u001b[0m\u001b[0max\u001b[0m\u001b[0;34m,\u001b[0m \u001b[0;34m*\u001b[0m\u001b[0mmap\u001b[0m\u001b[0;34m(\u001b[0m\u001b[0msanitize_sequence\u001b[0m\u001b[0;34m,\u001b[0m \u001b[0margs\u001b[0m\u001b[0;34m)\u001b[0m\u001b[0;34m,\u001b[0m \u001b[0;34m**\u001b[0m\u001b[0mkwargs\u001b[0m\u001b[0;34m)\u001b[0m\u001b[0;34m\u001b[0m\u001b[0;34m\u001b[0m\u001b[0m\n\u001b[0m\u001b[1;32m   1566\u001b[0m \u001b[0;34m\u001b[0m\u001b[0m\n\u001b[1;32m   1567\u001b[0m         \u001b[0mbound\u001b[0m \u001b[0;34m=\u001b[0m \u001b[0mnew_sig\u001b[0m\u001b[0;34m.\u001b[0m\u001b[0mbind\u001b[0m\u001b[0;34m(\u001b[0m\u001b[0max\u001b[0m\u001b[0;34m,\u001b[0m \u001b[0;34m*\u001b[0m\u001b[0margs\u001b[0m\u001b[0;34m,\u001b[0m \u001b[0;34m**\u001b[0m\u001b[0mkwargs\u001b[0m\u001b[0;34m)\u001b[0m\u001b[0;34m\u001b[0m\u001b[0;34m\u001b[0m\u001b[0m\n",
      "\u001b[0;32m~/opt/anaconda3/lib/python3.8/site-packages/matplotlib/cbook/deprecation.py\u001b[0m in \u001b[0;36mwrapper\u001b[0;34m(*args, **kwargs)\u001b[0m\n\u001b[1;32m    356\u001b[0m                 \u001b[0;34mf\"%(removal)s.  If any parameter follows {name!r}, they \"\u001b[0m\u001b[0;34m\u001b[0m\u001b[0;34m\u001b[0m\u001b[0m\n\u001b[1;32m    357\u001b[0m                 f\"should be pass as keyword, not positionally.\")\n\u001b[0;32m--> 358\u001b[0;31m         \u001b[0;32mreturn\u001b[0m \u001b[0mfunc\u001b[0m\u001b[0;34m(\u001b[0m\u001b[0;34m*\u001b[0m\u001b[0margs\u001b[0m\u001b[0;34m,\u001b[0m \u001b[0;34m**\u001b[0m\u001b[0mkwargs\u001b[0m\u001b[0;34m)\u001b[0m\u001b[0;34m\u001b[0m\u001b[0;34m\u001b[0m\u001b[0m\n\u001b[0m\u001b[1;32m    359\u001b[0m \u001b[0;34m\u001b[0m\u001b[0m\n\u001b[1;32m    360\u001b[0m     \u001b[0;32mreturn\u001b[0m \u001b[0mwrapper\u001b[0m\u001b[0;34m\u001b[0m\u001b[0;34m\u001b[0m\u001b[0m\n",
      "\u001b[0;32m~/opt/anaconda3/lib/python3.8/site-packages/matplotlib/axes/_axes.py\u001b[0m in \u001b[0;36mscatter\u001b[0;34m(self, x, y, s, c, marker, cmap, norm, vmin, vmax, alpha, linewidths, verts, edgecolors, plotnonfinite, **kwargs)\u001b[0m\n\u001b[1;32m   4389\u001b[0m         \u001b[0my\u001b[0m \u001b[0;34m=\u001b[0m \u001b[0mnp\u001b[0m\u001b[0;34m.\u001b[0m\u001b[0mma\u001b[0m\u001b[0;34m.\u001b[0m\u001b[0mravel\u001b[0m\u001b[0;34m(\u001b[0m\u001b[0my\u001b[0m\u001b[0;34m)\u001b[0m\u001b[0;34m\u001b[0m\u001b[0;34m\u001b[0m\u001b[0m\n\u001b[1;32m   4390\u001b[0m         \u001b[0;32mif\u001b[0m \u001b[0mx\u001b[0m\u001b[0;34m.\u001b[0m\u001b[0msize\u001b[0m \u001b[0;34m!=\u001b[0m \u001b[0my\u001b[0m\u001b[0;34m.\u001b[0m\u001b[0msize\u001b[0m\u001b[0;34m:\u001b[0m\u001b[0;34m\u001b[0m\u001b[0;34m\u001b[0m\u001b[0m\n\u001b[0;32m-> 4391\u001b[0;31m             \u001b[0;32mraise\u001b[0m \u001b[0mValueError\u001b[0m\u001b[0;34m(\u001b[0m\u001b[0;34m\"x and y must be the same size\"\u001b[0m\u001b[0;34m)\u001b[0m\u001b[0;34m\u001b[0m\u001b[0;34m\u001b[0m\u001b[0m\n\u001b[0m\u001b[1;32m   4392\u001b[0m \u001b[0;34m\u001b[0m\u001b[0m\n\u001b[1;32m   4393\u001b[0m         \u001b[0;32mif\u001b[0m \u001b[0ms\u001b[0m \u001b[0;32mis\u001b[0m \u001b[0;32mNone\u001b[0m\u001b[0;34m:\u001b[0m\u001b[0;34m\u001b[0m\u001b[0;34m\u001b[0m\u001b[0m\n",
      "\u001b[0;31mValueError\u001b[0m: x and y must be the same size"
     ]
    },
    {
     "data": {
      "image/png": "[encoded data removed]",
      "text/plain": [
       "<Figure size 720x576 with 1 Axes>"
      ]
     },
     "metadata": {
      "needs_background": "light"
     },
     "output_type": "display_data"
    }
   ],
   "source": [
    "plt.figure(figsize=(10,8))\n",
    "data = [x for x in w_all[['wind speed at 100m (m/s)', 'Year']].values if x[0]>50/2.237]\n",
    "speed = [x[0]*2.237 for x in data]\n",
    "years = rand_jitter([x[1] for x in data])\n",
    "plt.scatter(years, speed, color = 'r')\n",
    "plt.scatter(x,y)\n",
    "plt.scatter(x_range, y_pred)\n",
    "plt.title('Marion County Yields')\n",
    "plt.xlabel('Year')\n",
    "plt.ylabel('Yield (bushels per acre)')\n"
   ]
  },
  {
   "cell_type": "code",
   "execution_count": null,
   "metadata": {
    "scrolled": true
   },
   "outputs": [],
   "source": [
    "plt.scatter(years, speed, color = 'r')\n",
    "plt.title('High Wind Events Marion County \\'07-\\'12')\n",
    "plt.xlabel('Year')\n",
    "plt.ylabel('Wind Speed (mph)')"
   ]
  },
  {
   "cell_type": "code",
   "execution_count": null,
   "metadata": {},
   "outputs": [],
   "source": [
    "w_all.dtypes"
   ]
  },
  {
   "cell_type": "code",
   "execution_count": null,
   "metadata": {},
   "outputs": [],
   "source": [
    "x = marion['Year'].values.reshape(-1,1)\n",
    "y = marion['yield'].values.reshape(-1,1)\n",
    "\n",
    "xtrain, xtest, ytrain, ytest = train_test_split(x,y, train_size=0.8)\n",
    "\n",
    "\n",
    "xtrain_poly = PolynomialFeatures(5).fit_transform(xtrain)\n",
    "xtest_poly = PolynomialFeatures(5).fit_transform(xtest)\n",
    "\n",
    "lr = LinearRegression(fit_intercept=False) # intercept already defined in fit_transform\n",
    "\n",
    "lr.fit(xtrain_poly, ytrain)\n",
    "\n",
    "ytest_pred = lr.predict(xtest_poly)\n",
    "\n",
    "mse = mean_squared_error(ytest_pred, ytest)\n",
    "r2 = r2_score(ytest, ytest_pred)\n",
    "print('The r2 score of the degree 5 wind-only model is {}'.format(r2))\n",
    "print('The MSE of the degree 5 wind only model is {}'.format(mse))\n",
    "\n",
    "# So year doesn't predict yield very well :) "
   ]
  },
  {
   "cell_type": "code",
   "execution_count": null,
   "metadata": {},
   "outputs": [],
   "source": [
    "y = marion.loc[(marion['Year']< 2013) & (marion['Year']>2007)]['yield'].values\n",
    "print(y)"
   ]
  },
  {
   "cell_type": "code",
   "execution_count": null,
   "metadata": {},
   "outputs": [],
   "source": [
    "x = w_all.loc[(w_all['wind speed at 100m (m/s)']>50/2.237)].groupby('Year').count()['wind speed at 100m (m/s)'].values"
   ]
  },
  {
   "cell_type": "code",
   "execution_count": null,
   "metadata": {},
   "outputs": [],
   "source": [
    "x"
   ]
  },
  {
   "cell_type": "code",
   "execution_count": null,
   "metadata": {},
   "outputs": [],
   "source": [
    "x = x.reshape(-1, 1)\n",
    "y = y.reshape(-1, 1)\n",
    "xtrain, xtest, ytrain, ytest = train_test_split(x,y, train_size=0.8)\n",
    "\n",
    "\n",
    "xtrain_poly = PolynomialFeatures(5).fit_transform(xtrain)\n",
    "xtest_poly = PolynomialFeatures(5).fit_transform(xtest)\n",
    "\n",
    "lr = LinearRegression(fit_intercept=False) # intercept already defined in fit_transform\n",
    "\n",
    "lr.fit(xtrain_poly, ytrain)\n",
    "\n",
    "ytest_pred = lr.predict(xtest_poly)\n",
    "\n",
    "mse = mean_squared_error(ytest_pred, ytest)\n",
    "r2 = r2_score(ytest, ytest_pred)\n",
    "print('The r2 score of the degree 5 wind-only model is {}'.format(r2))\n",
    "print('The MSE of the degree 5 wind only model is {}'.format(mse))"
   ]
  },
  {
   "cell_type": "code",
   "execution_count": 32,
   "metadata": {},
   "outputs": [
    {
     "name": "stdout",
     "output_type": "stream",
     "text": [
      "<Response [400]>\n"
     ]
    }
   ],
   "source": [
    "url = 'http://developer.nrel.gov/api/pvwatts/v6.csv?parameters'\n",
    "parameters = { 'format' : 'csv', 'api_key' : '[037P8C9W1gMsO4cNFDFvUYvTDnIhMlA3NSVhXdCC]', 'system_capacity' : 50.0, 'module_type' : 0, \n",
    "            'losses' : 14.0, 'array_type' : 0, 'tilt' : 20, 'azimuth' : 180, 'lat' : 47.648737, \n",
    "            'lon' : -122.319889, 'timeframe' : 'hourly'} \n",
    "response = requests.get(url, params=parameters) \n",
    "print(response) # POLYGON((46 -104, 46 -102, 44 -102, 44 -104))    "
   ]
  },
  {
   "cell_type": "code",
   "execution_count": null,
   "metadata": {},
   "outputs": [],
   "source": [
    "/api/wind-toolkit/v2/wind/wtk-download.     \"POLYGON((46 -104, 46 -103, 45 -103, 45 -103))\""
   ]
  },
  {
   "cell_type": "code",
   "execution_count": 3,
   "metadata": {},
   "outputs": [
    {
     "name": "stdout",
     "output_type": "stream",
     "text": [
      "b'{\"inputs\":{\"wkt\":\"POINT(-78.483215 32.104233)\",\"attributes\":[\"windspeed_10m\",\"windspeed_100m\"],\"names\":\"2007\",\"email\":\"davidwma@yahoo.com\"},\"metadata\":{\"version\":\"2.0.0\"},\"status\":400,\"errors\":[\"input.split is not a function\"]}'\n"
     ]
    }
   ],
   "source": [
    "url = 'https://developer.nrel.gov/api/wind-toolkit/v2/wind/wtk-download.csv?'\n",
    "parameters = { 'api_key' : 'yMDVMKtCa4FGh2vmvstXY8ZDZbWKqBl2vddmnKZg', \n",
    "              'wkt' : \"POINT(-78.483215 32.104233)\",\n",
    "             'attributes' : ['windspeed_10m'], 'names' : [2007], 'email' : 'davidwma@yahoo.com'} \n",
    "response = requests.get(url, params=parameters) \n",
    "print(response.content)\n"
   ]
  },
  {
   "cell_type": "code",
   "execution_count": 51,
   "metadata": {},
   "outputs": [
    {
     "name": "stdout",
     "output_type": "stream",
     "text": [
      "      Year  Month  Day  Hour  Minute  wind speed at 10m (m/s)\n",
      "0     2007      1    1     0      30                    10.84\n",
      "1     2007      1    1     1      30                    10.38\n",
      "2     2007      1    1     2      30                    11.51\n",
      "3     2007      1    1     3      30                    10.80\n",
      "4     2007      1    1     4      30                    11.12\n",
      "...    ...    ...  ...   ...     ...                      ...\n",
      "8755  2007     12   31    19      30                     5.28\n",
      "8756  2007     12   31    20      30                     4.41\n",
      "8757  2007     12   31    21      30                     3.89\n",
      "8758  2007     12   31    22      30                     3.56\n",
      "8759  2007     12   31    23      30                     3.72\n",
      "\n",
      "[8760 rows x 6 columns]\n"
     ]
    }
   ],
   "source": [
    "#df = pd.read_csv(response.content, delimiter=',')\n",
    "from io import StringIO\n",
    "StringData = StringIO(response.text)\n",
    "df = pd.read_csv(StringData, sep = \",\", header=1)\n",
    "print(df)"
   ]
  },
  {
   "cell_type": "code",
   "execution_count": 52,
   "metadata": {},
   "outputs": [
    {
     "data": {
      "text/plain": [
       "Index(['Year', 'Month', 'Day', 'Hour', 'Minute', 'wind speed at 10m (m/s)'], dtype='object')"
      ]
     },
     "execution_count": 52,
     "metadata": {},
     "output_type": "execute_result"
    }
   ],
   "source": [
    "df.columns"
   ]
  },
  {
   "cell_type": "code",
   "execution_count": 18,
   "metadata": {},
   "outputs": [
    {
     "name": "stdout",
     "output_type": "stream",
     "text": [
      "<Response [403]>\n"
     ]
    }
   ],
   "source": [
    "url = 'https://developer.nrel.gov/api/pvwatts/v6.csv?parameters'\n",
    "parameters = { 'api_key' : '[037P8C9W1gMsO4cNFDFvUYvTDnIhMlA3NSVhXdCC]', 'lat' : -78.483215, 'lon' : 32.104233,\n",
    "             'attributes' : ['windspeed_10m'], 'names' : [2007],\n",
    "            'email' : 'julians3.1415@gmail.com'} \n",
    "response = requests.get(url, params=parameters) \n",
    "print(response)"
   ]
  },
  {
   "cell_type": "code",
   "execution_count": 12,
   "metadata": {},
   "outputs": [
    {
     "name": "stdout",
     "output_type": "stream",
     "text": [
      "/bin/bash: 32.104233): command not found\r\n",
      "/bin/bash: GET: command not found\r\n"
     ]
    }
   ],
   "source": [
    "! GET /api/wind-toolkit/v2/wind/wtk-download.csv?api_key={{037P8C9W1gMsO4cNFDFvUYvTDnIhMlA3NSVhXdCC}}&wkt=POINT\\(-78.483215 32.104233\\)&names=2009&utc=true&leap_day=true&email=julians3.1415@gmail.com&reason=example&affiliation=NREL"
   ]
  },
  {
   "cell_type": "code",
   "execution_count": null,
   "metadata": {},
   "outputs": [],
   "source": [
    "https://developer.nrel.gov/api/wind-toolkit/wind/wtk_download.csv?\n",
    "    wkt=POINT({lon}%20{lat})&names={year}&leap_day={leap}&interval={interval}&utc={utc}&\n",
    "    full_name={name}&email={email}&affiliation={affiliation}&\n",
    "    mailing_list={mailing_list}&reason={reason}&api_key={api}&attributes={attr}\n",
    "    \n",
    "api_key={{yMDVMKtCa4FGh2vmvstXY8ZDZbWKqBl2vddmnKZg}}&wkt=POINT(32.104233 -78.483215)&names=2009&utc=true&leap_day=true&email=davidwma@yahoo.com\")"
   ]
  }
 ],
 "metadata": {
  "kernelspec": {
   "display_name": "Python 3",
   "language": "python",
   "name": "python3"
  },
  "language_info": {
   "codemirror_mode": {
    "name": "ipython",
    "version": 3
   },
   "file_extension": ".py",
   "mimetype": "text/x-python",
   "name": "python",
   "nbconvert_exporter": "python",
   "pygments_lexer": "ipython3",
   "version": "3.8.3"
  }
 },
 "nbformat": 4,
 "nbformat_minor": 4
}

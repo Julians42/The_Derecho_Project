{
 "cells": [
  {
   "cell_type": "code",
   "execution_count": 9,
   "metadata": {},
   "outputs": [],
   "source": [
    "%matplotlib inline\n",
    "import matplotlib.pyplot as plt\n",
    "import numpy as np\n",
    "import pandas as pd\n",
    "import requests\n",
    "from io import StringIO\n",
    "import sys\n",
    "import time\n",
    "import csv\n",
    "import logging\n",
    "import os\n",
    "from shapely import wkb, wkt\n",
    "from shapely.geometry import Point\n",
    "import traceback\n",
    "from pywtk.site_lookup import get_3tiersites_from_wkt"
   ]
  },
  {
   "cell_type": "code",
   "execution_count": null,
   "metadata": {},
   "outputs": [],
   "source": [
    "# https://developer.nrel.gov/docs/wind/wind-toolkit/wtk-download/\n",
    "# https://maps.nrel.gov/wind-prospector/?aL=0&bL=groad&cE=0&lR=0&mC=-85.05112877980659%2C180&zL=NaN"
   ]
  },
  {
   "cell_type": "code",
   "execution_count": 10,
   "metadata": {},
   "outputs": [],
   "source": [
    "min_lng = -102\n",
    "max_lng = -94\n",
    "min_lat = 37\n",
    "max_lat = 40\n",
    "wkt = \"POLYGON(({0} {3},{1} {3},{1} {2},{0} {2},{0} {3}))\".format(min_lng, max_lng, min_lat, max_lat)"
   ]
  },
  {
   "cell_type": "code",
   "execution_count": 11,
   "metadata": {},
   "outputs": [],
   "source": [
    "# get sites \n",
    "site_df = get_3tiersites_from_wkt(wkt)"
   ]
  },
  {
   "cell_type": "code",
   "execution_count": 12,
   "metadata": {},
   "outputs": [
    {
     "name": "stdout",
     "output_type": "stream",
     "text": [
      "Index(['gid', 'fraction_of_usable_area', 'power_curve', 'capacity',\n",
      "       'wind_speed', 'capacity_factor', 'the_geom', 'city', 'state', 'country',\n",
      "       'elevation', 'point', 'lat', 'lon'],\n",
      "      dtype='object')\n",
      "Index(['site_id', 'gid', 'fraction_of_usable_area', 'power_curve', 'capacity',\n",
      "       'wind_speed', 'capacity_factor', 'the_geom', 'city', 'state', 'country',\n",
      "       'elevation', 'point', 'lat', 'lon'],\n",
      "      dtype='object')\n"
     ]
    }
   ],
   "source": [
    "print(site_df.columns)\n",
    "site_df = site_df.reset_index()\n",
    "print(site_df.columns)"
   ]
  },
  {
   "cell_type": "code",
   "execution_count": 13,
   "metadata": {},
   "outputs": [],
   "source": [
    "# create csv\n",
    "site_df[['site_id', 'lat', 'lon', 'capacity', 'capacity_factor']].to_csv('interesting_sites.csv', index=False)"
   ]
  },
  {
   "cell_type": "code",
   "execution_count": 27,
   "metadata": {},
   "outputs": [
    {
     "data": {
      "text/plain": [
       "'POINT (-98.633301 39.59584)'"
      ]
     },
     "execution_count": 27,
     "metadata": {},
     "output_type": "execute_result"
    }
   ],
   "source": [
    "# save csv to sites.csv\n",
    "#site_df.to_csv(\"Kansas_sites.csv\") \n",
    "sites = site_df[['site_id', 'lat', 'lon', 'point', 'capacity', 'capacity_factor']].copy()\n",
    "\n",
    "# example point\n",
    "str(sites[['point']].iloc[1].values[0])"
   ]
  },
  {
   "cell_type": "code",
   "execution_count": 25,
   "metadata": {},
   "outputs": [
    {
     "name": "stdout",
     "output_type": "stream",
     "text": [
      "Request executed in 2.5433 seconds.\n"
     ]
    },
    {
     "data": {
      "text/html": [
       "<div>\n",
       "<style scoped>\n",
       "    .dataframe tbody tr th:only-of-type {\n",
       "        vertical-align: middle;\n",
       "    }\n",
       "\n",
       "    .dataframe tbody tr th {\n",
       "        vertical-align: top;\n",
       "    }\n",
       "\n",
       "    .dataframe thead th {\n",
       "        text-align: right;\n",
       "    }\n",
       "</style>\n",
       "<table border=\"1\" class=\"dataframe\">\n",
       "  <thead>\n",
       "    <tr style=\"text-align: right;\">\n",
       "      <th></th>\n",
       "      <th>Year</th>\n",
       "      <th>Month</th>\n",
       "      <th>Day</th>\n",
       "      <th>Hour</th>\n",
       "      <th>Minute</th>\n",
       "      <th>wind speed at 10m (m/s)</th>\n",
       "    </tr>\n",
       "  </thead>\n",
       "  <tbody>\n",
       "    <tr>\n",
       "      <th>0</th>\n",
       "      <td>2007</td>\n",
       "      <td>1</td>\n",
       "      <td>1</td>\n",
       "      <td>0</td>\n",
       "      <td>30</td>\n",
       "      <td>5.53</td>\n",
       "    </tr>\n",
       "    <tr>\n",
       "      <th>1</th>\n",
       "      <td>2007</td>\n",
       "      <td>1</td>\n",
       "      <td>1</td>\n",
       "      <td>1</td>\n",
       "      <td>30</td>\n",
       "      <td>6.56</td>\n",
       "    </tr>\n",
       "    <tr>\n",
       "      <th>2</th>\n",
       "      <td>2007</td>\n",
       "      <td>1</td>\n",
       "      <td>1</td>\n",
       "      <td>2</td>\n",
       "      <td>30</td>\n",
       "      <td>6.05</td>\n",
       "    </tr>\n",
       "    <tr>\n",
       "      <th>3</th>\n",
       "      <td>2007</td>\n",
       "      <td>1</td>\n",
       "      <td>1</td>\n",
       "      <td>3</td>\n",
       "      <td>30</td>\n",
       "      <td>6.24</td>\n",
       "    </tr>\n",
       "    <tr>\n",
       "      <th>4</th>\n",
       "      <td>2007</td>\n",
       "      <td>1</td>\n",
       "      <td>1</td>\n",
       "      <td>4</td>\n",
       "      <td>30</td>\n",
       "      <td>5.55</td>\n",
       "    </tr>\n",
       "  </tbody>\n",
       "</table>\n",
       "</div>"
      ],
      "text/plain": [
       "   Year  Month  Day  Hour  Minute  wind speed at 10m (m/s)\n",
       "0  2007      1    1     0      30                     5.53\n",
       "1  2007      1    1     1      30                     6.56\n",
       "2  2007      1    1     2      30                     6.05\n",
       "3  2007      1    1     3      30                     6.24\n",
       "4  2007      1    1     4      30                     5.55"
      ]
     },
     "execution_count": 25,
     "metadata": {},
     "output_type": "execute_result"
    }
   ],
   "source": [
    "years = [2007, 2008, 2009, 2010, 2011, 2012, 2013, 2014]\n",
    "attributes = ['windspeed_10m', 'windspeed_100m', 'temperature_10m', 'temperature_100m', 'winddirection_100m']\n",
    "url = 'https://developer.nrel.gov/api/wind-toolkit/v2/wind/wtk-download.csv?'\n",
    "parameters = { 'api_key' : 'yMDVMKtCa4FGh2vmvstXY8ZDZbWKqBl2vddmnKZg', \n",
    "              'wkt' : sites[['point']].iloc[1].values[0],\n",
    "             'attributes' : ['windspeed_10m'], 'names' : [2007], 'email' : 'davidwma@yahoo.com'} \n",
    "t1 = time.perf_counter()\n",
    "response = requests.get(url, params=parameters) \n",
    "t2 = time.perf_counter()\n",
    "print('Request executed in {:.4f} seconds.'.format(t2-t1))\n",
    "StringData = StringIO(response.text)\n",
    "df = pd.read_csv(StringData, sep = \",\", header=1)\n",
    "df.head()"
   ]
  },
  {
   "cell_type": "code",
   "execution_count": 26,
   "metadata": {},
   "outputs": [
    {
     "name": "stdout",
     "output_type": "stream",
     "text": [
      "Request executed in 2.5774 seconds.\n"
     ]
    },
    {
     "data": {
      "text/html": [
       "<div>\n",
       "<style scoped>\n",
       "    .dataframe tbody tr th:only-of-type {\n",
       "        vertical-align: middle;\n",
       "    }\n",
       "\n",
       "    .dataframe tbody tr th {\n",
       "        vertical-align: top;\n",
       "    }\n",
       "\n",
       "    .dataframe thead th {\n",
       "        text-align: right;\n",
       "    }\n",
       "</style>\n",
       "<table border=\"1\" class=\"dataframe\">\n",
       "  <thead>\n",
       "    <tr style=\"text-align: right;\">\n",
       "      <th></th>\n",
       "      <th>Year</th>\n",
       "      <th>Month</th>\n",
       "      <th>Day</th>\n",
       "      <th>Hour</th>\n",
       "      <th>Minute</th>\n",
       "      <th>wind speed at 10m (m/s)</th>\n",
       "    </tr>\n",
       "  </thead>\n",
       "  <tbody>\n",
       "    <tr>\n",
       "      <th>0</th>\n",
       "      <td>2007</td>\n",
       "      <td>1</td>\n",
       "      <td>1</td>\n",
       "      <td>0</td>\n",
       "      <td>30</td>\n",
       "      <td>5.53</td>\n",
       "    </tr>\n",
       "    <tr>\n",
       "      <th>1</th>\n",
       "      <td>2007</td>\n",
       "      <td>1</td>\n",
       "      <td>1</td>\n",
       "      <td>1</td>\n",
       "      <td>30</td>\n",
       "      <td>6.56</td>\n",
       "    </tr>\n",
       "    <tr>\n",
       "      <th>2</th>\n",
       "      <td>2007</td>\n",
       "      <td>1</td>\n",
       "      <td>1</td>\n",
       "      <td>2</td>\n",
       "      <td>30</td>\n",
       "      <td>6.05</td>\n",
       "    </tr>\n",
       "    <tr>\n",
       "      <th>3</th>\n",
       "      <td>2007</td>\n",
       "      <td>1</td>\n",
       "      <td>1</td>\n",
       "      <td>3</td>\n",
       "      <td>30</td>\n",
       "      <td>6.24</td>\n",
       "    </tr>\n",
       "    <tr>\n",
       "      <th>4</th>\n",
       "      <td>2007</td>\n",
       "      <td>1</td>\n",
       "      <td>1</td>\n",
       "      <td>4</td>\n",
       "      <td>30</td>\n",
       "      <td>5.55</td>\n",
       "    </tr>\n",
       "  </tbody>\n",
       "</table>\n",
       "</div>"
      ],
      "text/plain": [
       "   Year  Month  Day  Hour  Minute  wind speed at 10m (m/s)\n",
       "0  2007      1    1     0      30                     5.53\n",
       "1  2007      1    1     1      30                     6.56\n",
       "2  2007      1    1     2      30                     6.05\n",
       "3  2007      1    1     3      30                     6.24\n",
       "4  2007      1    1     4      30                     5.55"
      ]
     },
     "execution_count": 26,
     "metadata": {},
     "output_type": "execute_result"
    }
   ],
   "source": [
    "years = [2007, 2008, 2009, 2010, 2011, 2012, 2013, 2014]\n",
    "attributes = ['windspeed_10m', 'windspeed_100m', 'temperature_10m', 'temperature_100m', 'winddirection_100m']\n",
    "url = 'https://developer.nrel.gov/api/wind-toolkit/v2/wind/wtk-download.csv?'\n",
    "parameters = { 'api_key' : '037P8C9W1gMsO4cNFDFvUYvTDnIhMlA3NSVhXdCC', \n",
    "              'wkt' : sites[['point']].iloc[1].values[0],\n",
    "             'attributes' : [attributes[0]], 'names' : [2007], 'email' : 'julians3.1415@gmail.com'} \n",
    "t1 = time.perf_counter()\n",
    "response = requests.get(url, params=parameters) \n",
    "t2 = time.perf_counter()\n",
    "print('Request executed in {:.4f} seconds.'.format(t2-t1))\n",
    "StringData = StringIO(response.text)\n",
    "df = pd.read_csv(StringData, sep = \",\", header=1)\n",
    "df.head()"
   ]
  },
  {
   "cell_type": "code",
   "execution_count": 101,
   "metadata": {},
   "outputs": [],
   "source": [
    "def point_download(point, attributes, years):\n",
    "    url = 'https://developer.nrel.gov/api/wind-toolkit/v2/wind/wtk-download.csv?'\n",
    "    df = 'tmp'\n",
    "    for yr in range(0,len(years)):\n",
    "        df_yr = 'tmp'\n",
    "        for attr in range(0,len(attributes)):\n",
    "            time.sleep(2)\n",
    "            attribute, year = attributes[attr], years[yr]\n",
    "            params = { 'api_key' : '037P8C9W1gMsO4cNFDFvUYvTDnIhMlA3NSVhXdCC', 'wkt' : point,\n",
    "                  'attributes' : attribute, 'names' : [year], 'email' : 'julians3.1415@gmail.com'}\n",
    "            response = requests.get(url, params)\n",
    "            # print(response.content)\n",
    "            raw_data = StringIO(response.text)\n",
    "            df_new = pd.read_csv(raw_data, sep = \",\", header=1)\n",
    "            if type(df_yr) == str: # check if no value filled yet\n",
    "                df_yr = df_new\n",
    "                print(df_yr.columns)\n",
    "            else:\n",
    "                print(df_new.columns[-1])\n",
    "                c_name = df_new.columns[-1]\n",
    "                df_yr['{}'.format(c_name)] = df_new['{}'.format(c_name)].values\n",
    "        if type(df)==str:\n",
    "            df = df_yr\n",
    "        else:\n",
    "            df = pd.concat([df, df_yr], axis=0)\n",
    "    return df\n",
    "                \n",
    "def point_fast(point, columns, years):\n",
    "    url = 'https://developer.nrel.gov/api/wind-toolkit/v2/wind/wtk-download.csv?'\n",
    "    df = 'tmp'\n",
    "    for yr in range(0,len(years)):\n",
    "        time.sleep(2)\n",
    "        year = years[yr]\n",
    "        params = { 'api_key' : '037P8C9W1gMsO4cNFDFvUYvTDnIhMlA3NSVhXdCC', 'wkt' : point,\n",
    "                   'names' : [year], 'email' : 'julians3.1415@gmail.com'}\n",
    "        response = requests.get(url, params)\n",
    "        # print(response.content)\n",
    "        raw_data = StringIO(response.text)\n",
    "        df_yr = pd.read_csv(raw_data, sep = \",\", header=1)[columns]\n",
    "        print(df_yr.columns)\n",
    "        if type(df)==str:\n",
    "            df = df_yr\n",
    "        else:\n",
    "            df = pd.concat([df, df_yr], axis=0)\n",
    "    return df\n"
   ]
  },
  {
   "cell_type": "code",
   "execution_count": 102,
   "metadata": {},
   "outputs": [
    {
     "name": "stdout",
     "output_type": "stream",
     "text": [
      "Index(['Year', 'Month', 'Day', 'Hour', 'Minute', 'wind speed at 10m (m/s)',\n",
      "       'wind speed at 100m (m/s)', 'air temperature at 10m (C)',\n",
      "       'air temperature at 100m (C)', 'wind direction at 100m (deg)'],\n",
      "      dtype='object')\n",
      "Index(['Year', 'Month', 'Day', 'Hour', 'Minute', 'wind speed at 10m (m/s)',\n",
      "       'wind speed at 100m (m/s)', 'air temperature at 10m (C)',\n",
      "       'air temperature at 100m (C)', 'wind direction at 100m (deg)'],\n",
      "      dtype='object')\n",
      "Index(['Year', 'Month', 'Day', 'Hour', 'Minute', 'wind speed at 10m (m/s)',\n",
      "       'wind speed at 100m (m/s)', 'air temperature at 10m (C)',\n",
      "       'air temperature at 100m (C)', 'wind direction at 100m (deg)'],\n",
      "      dtype='object')\n",
      "Index(['Year', 'Month', 'Day', 'Hour', 'Minute', 'wind speed at 10m (m/s)',\n",
      "       'wind speed at 100m (m/s)', 'air temperature at 10m (C)',\n",
      "       'air temperature at 100m (C)', 'wind direction at 100m (deg)'],\n",
      "      dtype='object')\n",
      "Index(['Year', 'Month', 'Day', 'Hour', 'Minute', 'wind speed at 10m (m/s)',\n",
      "       'wind speed at 100m (m/s)', 'air temperature at 10m (C)',\n",
      "       'air temperature at 100m (C)', 'wind direction at 100m (deg)'],\n",
      "      dtype='object')\n",
      "Index(['Year', 'Month', 'Day', 'Hour', 'Minute', 'wind speed at 10m (m/s)',\n",
      "       'wind speed at 100m (m/s)', 'air temperature at 10m (C)',\n",
      "       'air temperature at 100m (C)', 'wind direction at 100m (deg)'],\n",
      "      dtype='object')\n",
      "Index(['Year', 'Month', 'Day', 'Hour', 'Minute', 'wind speed at 10m (m/s)',\n",
      "       'wind speed at 100m (m/s)', 'air temperature at 10m (C)',\n",
      "       'air temperature at 100m (C)', 'wind direction at 100m (deg)'],\n",
      "      dtype='object')\n",
      "Index(['Year', 'Month', 'Day', 'Hour', 'Minute', 'wind speed at 10m (m/s)',\n",
      "       'wind speed at 100m (m/s)', 'air temperature at 10m (C)',\n",
      "       'air temperature at 100m (C)', 'wind direction at 100m (deg)'],\n",
      "      dtype='object')\n",
      "Data downloaded in 123.82859368200025\n"
     ]
    }
   ],
   "source": [
    "point = sites[['point']].iloc[0].values[0]\n",
    "columns = ['Year', 'Month', 'Day', 'Hour', 'Minute', 'wind speed at 10m (m/s)', 'wind speed at 100m (m/s)',\n",
    "           'air temperature at 10m (C)', 'air temperature at 100m (C)', 'wind direction at 100m (deg)']\n",
    "t_start = time.perf_counter()\n",
    "wind = point_fast(point, columns, years)\n",
    "t_end = time.perf_counter()\n",
    "print(f\"Data downloaded in {t_end - t_start}\")"
   ]
  },
  {
   "cell_type": "code",
   "execution_count": 86,
   "metadata": {},
   "outputs": [
    {
     "data": {
      "text/plain": [
       "'wind speed at 10m (m/s)'"
      ]
     },
     "execution_count": 86,
     "metadata": {},
     "output_type": "execute_result"
    }
   ],
   "source": [
    "ar = ['Year', 'Month', 'Day', 'Hour', 'Minute', 'wind speed at 10m (m/s)']\n",
    "ar[-1]"
   ]
  },
  {
   "cell_type": "code",
   "execution_count": 103,
   "metadata": {},
   "outputs": [
    {
     "data": {
      "text/html": [
       "<div>\n",
       "<style scoped>\n",
       "    .dataframe tbody tr th:only-of-type {\n",
       "        vertical-align: middle;\n",
       "    }\n",
       "\n",
       "    .dataframe tbody tr th {\n",
       "        vertical-align: top;\n",
       "    }\n",
       "\n",
       "    .dataframe thead th {\n",
       "        text-align: right;\n",
       "    }\n",
       "</style>\n",
       "<table border=\"1\" class=\"dataframe\">\n",
       "  <thead>\n",
       "    <tr style=\"text-align: right;\">\n",
       "      <th></th>\n",
       "      <th>Year</th>\n",
       "      <th>Month</th>\n",
       "      <th>Day</th>\n",
       "      <th>Hour</th>\n",
       "      <th>Minute</th>\n",
       "      <th>wind speed at 10m (m/s)</th>\n",
       "      <th>wind speed at 100m (m/s)</th>\n",
       "      <th>air temperature at 10m (C)</th>\n",
       "      <th>air temperature at 100m (C)</th>\n",
       "      <th>wind direction at 100m (deg)</th>\n",
       "    </tr>\n",
       "  </thead>\n",
       "  <tbody>\n",
       "    <tr>\n",
       "      <th>0</th>\n",
       "      <td>2007</td>\n",
       "      <td>1</td>\n",
       "      <td>1</td>\n",
       "      <td>0</td>\n",
       "      <td>30</td>\n",
       "      <td>5.43</td>\n",
       "      <td>13.08</td>\n",
       "      <td>-3.15</td>\n",
       "      <td>-2.39</td>\n",
       "      <td>315.04</td>\n",
       "    </tr>\n",
       "    <tr>\n",
       "      <th>1</th>\n",
       "      <td>2007</td>\n",
       "      <td>1</td>\n",
       "      <td>1</td>\n",
       "      <td>1</td>\n",
       "      <td>30</td>\n",
       "      <td>6.39</td>\n",
       "      <td>14.37</td>\n",
       "      <td>-2.72</td>\n",
       "      <td>-2.01</td>\n",
       "      <td>322.04</td>\n",
       "    </tr>\n",
       "    <tr>\n",
       "      <th>2</th>\n",
       "      <td>2007</td>\n",
       "      <td>1</td>\n",
       "      <td>1</td>\n",
       "      <td>2</td>\n",
       "      <td>30</td>\n",
       "      <td>6.07</td>\n",
       "      <td>15.10</td>\n",
       "      <td>-3.09</td>\n",
       "      <td>-2.14</td>\n",
       "      <td>328.91</td>\n",
       "    </tr>\n",
       "    <tr>\n",
       "      <th>3</th>\n",
       "      <td>2007</td>\n",
       "      <td>1</td>\n",
       "      <td>1</td>\n",
       "      <td>3</td>\n",
       "      <td>30</td>\n",
       "      <td>6.22</td>\n",
       "      <td>14.79</td>\n",
       "      <td>-3.41</td>\n",
       "      <td>-2.31</td>\n",
       "      <td>329.70</td>\n",
       "    </tr>\n",
       "    <tr>\n",
       "      <th>4</th>\n",
       "      <td>2007</td>\n",
       "      <td>1</td>\n",
       "      <td>1</td>\n",
       "      <td>4</td>\n",
       "      <td>30</td>\n",
       "      <td>5.28</td>\n",
       "      <td>13.85</td>\n",
       "      <td>-4.76</td>\n",
       "      <td>-2.65</td>\n",
       "      <td>327.34</td>\n",
       "    </tr>\n",
       "    <tr>\n",
       "      <th>...</th>\n",
       "      <td>...</td>\n",
       "      <td>...</td>\n",
       "      <td>...</td>\n",
       "      <td>...</td>\n",
       "      <td>...</td>\n",
       "      <td>...</td>\n",
       "      <td>...</td>\n",
       "      <td>...</td>\n",
       "      <td>...</td>\n",
       "      <td>...</td>\n",
       "    </tr>\n",
       "    <tr>\n",
       "      <th>8755</th>\n",
       "      <td>2014</td>\n",
       "      <td>12</td>\n",
       "      <td>31</td>\n",
       "      <td>19</td>\n",
       "      <td>30</td>\n",
       "      <td>6.60</td>\n",
       "      <td>8.07</td>\n",
       "      <td>-3.14</td>\n",
       "      <td>-4.55</td>\n",
       "      <td>250.00</td>\n",
       "    </tr>\n",
       "    <tr>\n",
       "      <th>8756</th>\n",
       "      <td>2014</td>\n",
       "      <td>12</td>\n",
       "      <td>31</td>\n",
       "      <td>20</td>\n",
       "      <td>30</td>\n",
       "      <td>6.56</td>\n",
       "      <td>8.26</td>\n",
       "      <td>-2.56</td>\n",
       "      <td>-3.86</td>\n",
       "      <td>251.67</td>\n",
       "    </tr>\n",
       "    <tr>\n",
       "      <th>8757</th>\n",
       "      <td>2014</td>\n",
       "      <td>12</td>\n",
       "      <td>31</td>\n",
       "      <td>21</td>\n",
       "      <td>30</td>\n",
       "      <td>5.92</td>\n",
       "      <td>7.86</td>\n",
       "      <td>-2.17</td>\n",
       "      <td>-3.26</td>\n",
       "      <td>247.82</td>\n",
       "    </tr>\n",
       "    <tr>\n",
       "      <th>8758</th>\n",
       "      <td>2014</td>\n",
       "      <td>12</td>\n",
       "      <td>31</td>\n",
       "      <td>22</td>\n",
       "      <td>30</td>\n",
       "      <td>4.32</td>\n",
       "      <td>7.52</td>\n",
       "      <td>-2.23</td>\n",
       "      <td>-2.92</td>\n",
       "      <td>246.46</td>\n",
       "    </tr>\n",
       "    <tr>\n",
       "      <th>8759</th>\n",
       "      <td>2014</td>\n",
       "      <td>12</td>\n",
       "      <td>31</td>\n",
       "      <td>23</td>\n",
       "      <td>30</td>\n",
       "      <td>3.74</td>\n",
       "      <td>8.12</td>\n",
       "      <td>-2.47</td>\n",
       "      <td>-2.70</td>\n",
       "      <td>244.57</td>\n",
       "    </tr>\n",
       "  </tbody>\n",
       "</table>\n",
       "<p>70080 rows × 10 columns</p>\n",
       "</div>"
      ],
      "text/plain": [
       "      Year  Month  Day  Hour  Minute  wind speed at 10m (m/s)  \\\n",
       "0     2007      1    1     0      30                     5.43   \n",
       "1     2007      1    1     1      30                     6.39   \n",
       "2     2007      1    1     2      30                     6.07   \n",
       "3     2007      1    1     3      30                     6.22   \n",
       "4     2007      1    1     4      30                     5.28   \n",
       "...    ...    ...  ...   ...     ...                      ...   \n",
       "8755  2014     12   31    19      30                     6.60   \n",
       "8756  2014     12   31    20      30                     6.56   \n",
       "8757  2014     12   31    21      30                     5.92   \n",
       "8758  2014     12   31    22      30                     4.32   \n",
       "8759  2014     12   31    23      30                     3.74   \n",
       "\n",
       "      wind speed at 100m (m/s)  air temperature at 10m (C)  \\\n",
       "0                        13.08                       -3.15   \n",
       "1                        14.37                       -2.72   \n",
       "2                        15.10                       -3.09   \n",
       "3                        14.79                       -3.41   \n",
       "4                        13.85                       -4.76   \n",
       "...                        ...                         ...   \n",
       "8755                      8.07                       -3.14   \n",
       "8756                      8.26                       -2.56   \n",
       "8757                      7.86                       -2.17   \n",
       "8758                      7.52                       -2.23   \n",
       "8759                      8.12                       -2.47   \n",
       "\n",
       "      air temperature at 100m (C)  wind direction at 100m (deg)  \n",
       "0                           -2.39                        315.04  \n",
       "1                           -2.01                        322.04  \n",
       "2                           -2.14                        328.91  \n",
       "3                           -2.31                        329.70  \n",
       "4                           -2.65                        327.34  \n",
       "...                           ...                           ...  \n",
       "8755                        -4.55                        250.00  \n",
       "8756                        -3.86                        251.67  \n",
       "8757                        -3.26                        247.82  \n",
       "8758                        -2.92                        246.46  \n",
       "8759                        -2.70                        244.57  \n",
       "\n",
       "[70080 rows x 10 columns]"
      ]
     },
     "execution_count": 103,
     "metadata": {},
     "output_type": "execute_result"
    }
   ],
   "source": [
    "wind"
   ]
  },
  {
   "cell_type": "code",
   "execution_count": 94,
   "metadata": {},
   "outputs": [
    {
     "data": {
      "text/plain": [
       "['windspeed_10m', 'windspeed_100m']"
      ]
     },
     "execution_count": 94,
     "metadata": {},
     "output_type": "execute_result"
    }
   ],
   "source": [
    "attributes[0:2]"
   ]
  },
  {
   "cell_type": "code",
   "execution_count": 104,
   "metadata": {},
   "outputs": [
    {
     "data": {
      "text/plain": [
       "'/Users/julianschmitt/Documents/Schoolwork/Junior Fall/EPS 168/project/EPS-168'"
      ]
     },
     "execution_count": 104,
     "metadata": {},
     "output_type": "execute_result"
    }
   ],
   "source": [
    "pwd"
   ]
  },
  {
   "cell_type": "code",
   "execution_count": 105,
   "metadata": {},
   "outputs": [
    {
     "name": "stdout",
     "output_type": "stream",
     "text": [
      "README.md              interesting_sites.csv  setup.py\r\n",
      "corn_eda.ipynb         \u001b[34mpywtk\u001b[m\u001b[m/                 wind_api.ipynb\r\n",
      "\u001b[34mdata\u001b[m\u001b[m/                  pywtkenv.yml           wkt_stations.ipynb\r\n"
     ]
    }
   ],
   "source": [
    "ls"
   ]
  },
  {
   "cell_type": "code",
   "execution_count": 106,
   "metadata": {},
   "outputs": [
    {
     "name": "stdout",
     "output_type": "stream",
     "text": [
      "Maize_1999_2019_NASS.csv  wind_2007.csv             wind_2010.csv\r\n",
      "USA_county_yield_gsw.csv  wind_2008.csv             wind_2011.csv\r\n",
      "tl_2016_us_county.shp     wind_2009.csv             wind_2012.csv\r\n"
     ]
    }
   ],
   "source": [
    "ls data"
   ]
  },
  {
   "cell_type": "code",
   "execution_count": 128,
   "metadata": {},
   "outputs": [],
   "source": [
    "def name_csv(point):\n",
    "    \"\"\"Point is the shapely point for location. Creates a name for the csv.\"\"\"\n",
    "    ar = str(point).split()\n",
    "    lat, lon = ar[1][1:-1], ar[2][1:-1]\n",
    "    name = ar[0] + '_' + lat + '_' + lon + \".csv\"\n",
    "    return name"
   ]
  },
  {
   "cell_type": "code",
   "execution_count": 129,
   "metadata": {},
   "outputs": [
    {
     "name": "stdout",
     "output_type": "stream",
     "text": [
      "POINT_-98.65734_9.59523.csv\n"
     ]
    }
   ],
   "source": [
    "name = name_csv(point)\n",
    "print(name)"
   ]
  },
  {
   "cell_type": "code",
   "execution_count": 131,
   "metadata": {},
   "outputs": [],
   "source": [
    "wind.to_csv(\"data/\"+name_csv(point))"
   ]
  },
  {
   "cell_type": "code",
   "execution_count": null,
   "metadata": {},
   "outputs": [],
   "source": []
  }
 ],
 "metadata": {
  "kernelspec": {
   "display_name": "Python 3",
   "language": "python",
   "name": "python3"
  },
  "language_info": {
   "codemirror_mode": {
    "name": "ipython",
    "version": 3
   },
   "file_extension": ".py",
   "mimetype": "text/x-python",
   "name": "python",
   "nbconvert_exporter": "python",
   "pygments_lexer": "ipython3",
   "version": "3.8.3"
  }
 },
 "nbformat": 4,
 "nbformat_minor": 4
}

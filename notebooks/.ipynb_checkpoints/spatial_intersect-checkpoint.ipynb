{
 "cells": [
  {
   "cell_type": "markdown",
   "metadata": {},
   "source": [
    "# Wind Data Site Picker"
   ]
  },
  {
   "cell_type": "markdown",
   "metadata": {},
   "source": [
    "This script uses a shp file and returns a dataframe storing the point locations of up to 3 wind turbine data stations by county. This maximum number can be adjusted for a finer analysis. "
   ]
  },
  {
   "cell_type": "code",
   "execution_count": 95,
   "metadata": {},
   "outputs": [],
   "source": [
    "%matplotlib inline\n",
    "import matplotlib.pyplot as plt\n",
    "import numpy as np\n",
    "import pandas as pd\n",
    "import requests\n",
    "from io import StringIO\n",
    "import sys\n",
    "import time\n",
    "import csv\n",
    "import logging\n",
    "import os\n",
    "from os import path\n",
    "from shapely import wkb, wkt\n",
    "from shapely.geometry import Point, shape, Polygon\n",
    "import traceback\n",
    "from pywtk.site_lookup import get_3tiersites_from_wkt\n",
    "import fiona"
   ]
  },
  {
   "cell_type": "code",
   "execution_count": 78,
   "metadata": {},
   "outputs": [],
   "source": [
    "# Read in shape file \n",
    "shape = fiona.open(\"/Users/julianschmitt/Documents/Schoolwork/Junior Fall/EPS 168/project/tl_2016_us_county.shp\")"
   ]
  },
  {
   "cell_type": "code",
   "execution_count": 92,
   "metadata": {},
   "outputs": [
    {
     "name": "stderr",
     "output_type": "stream",
     "text": [
      "<ipython-input-92-50b19b633dcc>:2: FionaDeprecationWarning: Collection.__next__() is buggy and will be removed in Fiona 2.0. Switch to `next(iter(collection))`.\n",
      "  first= shape.next()\n"
     ]
    },
    {
     "data": {
      "text/plain": [
       "0.08669218443799927"
      ]
     },
     "execution_count": 92,
     "metadata": {},
     "output_type": "execute_result"
    }
   ],
   "source": [
    "# sample object with indexing shown\n",
    "first= shape.next()\n",
    "sample_county = Polygon(first['geometry']['coordinates'][0])\n",
    "sample_county.area"
   ]
  },
  {
   "cell_type": "code",
   "execution_count": 5,
   "metadata": {},
   "outputs": [],
   "source": [
    "# Read in the corn data set\n",
    "corn = pd.read_csv(\"~/Documents/Schoolwork/Junior Fall/EPS 168/project/data/data_yield/Maize_1999_2019_NASS.csv\")"
   ]
  },
  {
   "cell_type": "code",
   "execution_count": 6,
   "metadata": {},
   "outputs": [],
   "source": [
    "# Match up the county and state values\n",
    "corn_ansi = corn[['County ANSI', 'State ANSI']].dropna()\n",
    "corn_county = map(str, map(int, corn_ansi['County ANSI'].values))\n",
    "corn_state = map(str, map(int, corn_ansi['State ANSI'].values))\n",
    "corn_sc = [\" \".join(pair) for pair in zip(corn_state, corn_county)]"
   ]
  },
  {
   "cell_type": "code",
   "execution_count": 7,
   "metadata": {},
   "outputs": [
    {
     "data": {
      "text/plain": [
       "2305"
      ]
     },
     "execution_count": 7,
     "metadata": {},
     "output_type": "execute_result"
    }
   ],
   "source": [
    "len(set(corn_sc))"
   ]
  },
  {
   "cell_type": "code",
   "execution_count": 9,
   "metadata": {},
   "outputs": [],
   "source": [
    "# Get all the counties and states out\n",
    "state = [poly['properties'][\"STATEFP\"] for poly in shape.values()]\n",
    "county = [poly['properties'][\"COUNTYFP\"] for poly in shape.values()]\n",
    "state_county = [\" \".join(pair) for pair in zip(state, county)]"
   ]
  },
  {
   "cell_type": "code",
   "execution_count": 10,
   "metadata": {},
   "outputs": [
    {
     "data": {
      "text/plain": [
       "3233"
      ]
     },
     "execution_count": 10,
     "metadata": {},
     "output_type": "execute_result"
    }
   ],
   "source": [
    "len(set(state_county))"
   ]
  },
  {
   "cell_type": "code",
   "execution_count": 94,
   "metadata": {
    "scrolled": true
   },
   "outputs": [
    {
     "name": "stdout",
     "output_type": "stream",
     "text": [
      "21770\n"
     ]
    }
   ],
   "source": [
    "poly = Polygon(first['geometry']['coordinates'][0])\n",
    "print(len(str(poly))) # we see that each county has large resolution "
   ]
  },
  {
   "cell_type": "markdown",
   "metadata": {},
   "source": [
    "## New direction/ breakthrough! \n",
    "We go through the shp file and do a site query for each county in the US. The plan is now to index and get needed counties afterwards. We create a dataframe with all of the counties in the shape file (some didn't work --potentially corrupted?) and save it. Work will continue elsewhere.\n",
    "\n"
   ]
  },
  {
   "cell_type": "code",
   "execution_count": 71,
   "metadata": {
    "scrolled": true
   },
   "outputs": [
    {
     "name": "stdout",
     "output_type": "stream",
     "text": [
      "Polygon Object failure\n",
      "Polygon Object failure\n",
      "Polygon Object failure\n",
      "Polygon Object failure\n",
      "Polygon Object failure\n",
      "Polygon Object failure\n",
      "Polygon Object failure\n",
      "Polygon Object failure\n",
      "Polygon Object failure\n",
      "Polygon Object failure\n",
      "Polygon Object failure\n",
      "Polygon Object failure\n",
      "Polygon Object failure\n",
      "Polygon Object failure\n",
      "Polygon Object failure\n",
      "Polygon Object failure\n",
      "Polygon Object failure\n",
      "Polygon Object failure\n",
      "Polygon Object failure\n",
      "Polygon Object failure\n",
      "Polygon Object failure\n",
      "Polygon Object failure\n",
      "Polygon Object failure\n",
      "Polygon Object failure\n",
      "Polygon Object failure\n",
      "Polygon Object failure\n",
      "Polygon Object failure\n",
      "Polygon Object failure\n",
      "Polygon Object failure\n",
      "Polygon Object failure\n",
      "Polygon Object failure\n",
      "Polygon Object failure\n",
      "Polygon Object failure\n",
      "Polygon Object failure\n",
      "Polygon Object failure\n",
      "Polygon Object failure\n",
      "Polygon Object failure\n",
      "Polygon Object failure\n",
      "Polygon Object failure\n",
      "Polygon Object failure\n",
      "Polygon Object failure\n",
      "Polygon Object failure\n",
      "Polygon Object failure\n",
      "Polygon Object failure\n",
      "Polygon Object failure\n",
      "Polygon Object failure\n",
      "Polygon Object failure\n",
      "Polygon Object failure\n",
      "Polygon Object failure\n",
      "Polygon Object failure\n",
      "Polygon Object failure\n",
      "Polygon Object failure\n",
      "Polygon Object failure\n",
      "Polygon Object failure\n",
      "Polygon Object failure\n"
     ]
    },
    {
     "data": {
      "text/html": [
       "<div>\n",
       "<style scoped>\n",
       "    .dataframe tbody tr th:only-of-type {\n",
       "        vertical-align: middle;\n",
       "    }\n",
       "\n",
       "    .dataframe tbody tr th {\n",
       "        vertical-align: top;\n",
       "    }\n",
       "\n",
       "    .dataframe thead th {\n",
       "        text-align: right;\n",
       "    }\n",
       "</style>\n",
       "<table border=\"1\" class=\"dataframe\">\n",
       "  <thead>\n",
       "    <tr style=\"text-align: right;\">\n",
       "      <th></th>\n",
       "      <th>NAME</th>\n",
       "      <th>STATE</th>\n",
       "      <th>STATEFP</th>\n",
       "      <th>COUNTYFP</th>\n",
       "      <th>NAMELSAD</th>\n",
       "      <th>POINT</th>\n",
       "      <th>SITE</th>\n",
       "    </tr>\n",
       "  </thead>\n",
       "  <tbody>\n",
       "    <tr>\n",
       "      <th>0</th>\n",
       "      <td>Cuming</td>\n",
       "      <td>Nebraska</td>\n",
       "      <td>31</td>\n",
       "      <td>039</td>\n",
       "      <td>Cuming County</td>\n",
       "      <td>POINT (-96.985748 41.851967)</td>\n",
       "      <td>66913</td>\n",
       "    </tr>\n",
       "    <tr>\n",
       "      <th>1</th>\n",
       "      <td>Wahkiakum</td>\n",
       "      <td>Washington</td>\n",
       "      <td>53</td>\n",
       "      <td>069</td>\n",
       "      <td>Wahkiakum County</td>\n",
       "      <td>POINT (-123.463028 46.366371)</td>\n",
       "      <td>125299</td>\n",
       "    </tr>\n",
       "    <tr>\n",
       "      <th>2</th>\n",
       "      <td>De Baca</td>\n",
       "      <td>New Mexico</td>\n",
       "      <td>35</td>\n",
       "      <td>011</td>\n",
       "      <td>De Baca County</td>\n",
       "      <td>POINT (-104.26712 34.540672)</td>\n",
       "      <td>16227</td>\n",
       "    </tr>\n",
       "    <tr>\n",
       "      <th>3</th>\n",
       "      <td>De Baca</td>\n",
       "      <td>New Mexico</td>\n",
       "      <td>35</td>\n",
       "      <td>011</td>\n",
       "      <td>De Baca County</td>\n",
       "      <td>POINT (-104.245026 34.542561)</td>\n",
       "      <td>16228</td>\n",
       "    </tr>\n",
       "    <tr>\n",
       "      <th>4</th>\n",
       "      <td>De Baca</td>\n",
       "      <td>New Mexico</td>\n",
       "      <td>35</td>\n",
       "      <td>011</td>\n",
       "      <td>De Baca County</td>\n",
       "      <td>POINT (-104.222931 34.544441)</td>\n",
       "      <td>16229</td>\n",
       "    </tr>\n",
       "    <tr>\n",
       "      <th>...</th>\n",
       "      <td>...</td>\n",
       "      <td>...</td>\n",
       "      <td>...</td>\n",
       "      <td>...</td>\n",
       "      <td>...</td>\n",
       "      <td>...</td>\n",
       "      <td>...</td>\n",
       "    </tr>\n",
       "    <tr>\n",
       "      <th>6429</th>\n",
       "      <td>Madison</td>\n",
       "      <td>Mississippi</td>\n",
       "      <td>28</td>\n",
       "      <td>089</td>\n",
       "      <td>Madison County</td>\n",
       "      <td>POINT (-90.192719 32.451344)</td>\n",
       "      <td>10690</td>\n",
       "    </tr>\n",
       "    <tr>\n",
       "      <th>6430</th>\n",
       "      <td>Howard</td>\n",
       "      <td>Texas</td>\n",
       "      <td>48</td>\n",
       "      <td>227</td>\n",
       "      <td>Howard County</td>\n",
       "      <td>POINT (-101.283356 32.099888)</td>\n",
       "      <td>9799</td>\n",
       "    </tr>\n",
       "    <tr>\n",
       "      <th>6431</th>\n",
       "      <td>Howard</td>\n",
       "      <td>Texas</td>\n",
       "      <td>48</td>\n",
       "      <td>227</td>\n",
       "      <td>Howard County</td>\n",
       "      <td>POINT (-101.420258 32.201256)</td>\n",
       "      <td>10096</td>\n",
       "    </tr>\n",
       "    <tr>\n",
       "      <th>6432</th>\n",
       "      <td>Howard</td>\n",
       "      <td>Texas</td>\n",
       "      <td>48</td>\n",
       "      <td>227</td>\n",
       "      <td>Howard County</td>\n",
       "      <td>POINT (-101.398865 32.202473)</td>\n",
       "      <td>10097</td>\n",
       "    </tr>\n",
       "    <tr>\n",
       "      <th>6433</th>\n",
       "      <td>Wayne</td>\n",
       "      <td>West Virginia</td>\n",
       "      <td>54</td>\n",
       "      <td>099</td>\n",
       "      <td>Wayne County</td>\n",
       "      <td>POINT (-82.352478 38.216721)</td>\n",
       "      <td>43358</td>\n",
       "    </tr>\n",
       "  </tbody>\n",
       "</table>\n",
       "<p>6434 rows × 7 columns</p>\n",
       "</div>"
      ],
      "text/plain": [
       "           NAME          STATE STATEFP COUNTYFP          NAMELSAD  \\\n",
       "0        Cuming       Nebraska      31      039     Cuming County   \n",
       "1     Wahkiakum     Washington      53      069  Wahkiakum County   \n",
       "2       De Baca     New Mexico      35      011    De Baca County   \n",
       "3       De Baca     New Mexico      35      011    De Baca County   \n",
       "4       De Baca     New Mexico      35      011    De Baca County   \n",
       "...         ...            ...     ...      ...               ...   \n",
       "6429    Madison    Mississippi      28      089    Madison County   \n",
       "6430     Howard          Texas      48      227     Howard County   \n",
       "6431     Howard          Texas      48      227     Howard County   \n",
       "6432     Howard          Texas      48      227     Howard County   \n",
       "6433      Wayne  West Virginia      54      099      Wayne County   \n",
       "\n",
       "                              POINT    SITE  \n",
       "0      POINT (-96.985748 41.851967)   66913  \n",
       "1     POINT (-123.463028 46.366371)  125299  \n",
       "2      POINT (-104.26712 34.540672)   16227  \n",
       "3     POINT (-104.245026 34.542561)   16228  \n",
       "4     POINT (-104.222931 34.544441)   16229  \n",
       "...                             ...     ...  \n",
       "6429   POINT (-90.192719 32.451344)   10690  \n",
       "6430  POINT (-101.283356 32.099888)    9799  \n",
       "6431  POINT (-101.420258 32.201256)   10096  \n",
       "6432  POINT (-101.398865 32.202473)   10097  \n",
       "6433   POINT (-82.352478 38.216721)   43358  \n",
       "\n",
       "[6434 rows x 7 columns]"
      ]
     },
     "execution_count": 71,
     "metadata": {},
     "output_type": "execute_result"
    }
   ],
   "source": [
    "columns = ['NAME', 'STATE', 'STATEFP', 'COUNTYFP', 'NAMELSAD', 'POINT', 'SITE']\n",
    "\n",
    "wind_stations = []\n",
    "x = 0\n",
    "for index, county in enumerate(shape):\n",
    "    try:\n",
    "        poly = Polygon(county['geometry']['coordinates'][0])\n",
    "        sites = get_3tiersites_from_wkt(f\"{poly}\")\n",
    "        num_sites = min(3, len(sites))\n",
    "        sites_used = sites[0:num_sites]\n",
    "        # Get background data\n",
    "        statefp, countyfp, name, namelsad = county['properties']['STATEFP'], county['properties']['COUNTYFP'], county['properties']['NAME'], county['properties']['NAMELSAD']\n",
    "        for index, row in sites_used.iterrows():\n",
    "            # Get station data\n",
    "            point, site, state = row['point'], row['gid'], row['state']\n",
    "            wind_stations.append({'NAME': name, 'STATE': state, 'STATEFP': statefp, 'COUNTYFP': countyfp, \n",
    "                       'NAMELSAD': namelsad, 'POINT': point, 'SITE': site})\n",
    "    except:\n",
    "        try:\n",
    "            poly = Polygon(first['geometry']['coordinates'][0])\n",
    "            name = poly['properties']['NAME']\n",
    "            print(f\"County {name} has no wind sites\")\n",
    "        except:\n",
    "            print(\"Polygon Object failure\")\n",
    "    \n",
    "df = pd.DataFrame(wind_stations)\n",
    "df"
   ]
  },
  {
   "cell_type": "code",
   "execution_count": 77,
   "metadata": {},
   "outputs": [],
   "source": [
    "df.to_csv(\"US_wind_locations_3.csv\")"
   ]
  },
  {
   "cell_type": "code",
   "execution_count": null,
   "metadata": {},
   "outputs": [],
   "source": []
  }
 ],
 "metadata": {
  "kernelspec": {
   "display_name": "Python 3",
   "language": "python",
   "name": "python3"
  },
  "language_info": {
   "codemirror_mode": {
    "name": "ipython",
    "version": 3
   },
   "file_extension": ".py",
   "mimetype": "text/x-python",
   "name": "python",
   "nbconvert_exporter": "python",
   "pygments_lexer": "ipython3",
   "version": "3.8.3"
  }
 },
 "nbformat": 4,
 "nbformat_minor": 4
}

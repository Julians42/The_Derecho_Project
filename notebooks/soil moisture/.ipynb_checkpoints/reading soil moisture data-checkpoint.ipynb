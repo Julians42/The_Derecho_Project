{
 "cells": [
  {
   "cell_type": "code",
   "execution_count": 1,
   "metadata": {},
   "outputs": [],
   "source": [
    "# Import libraries\n",
    "import numpy as np\n",
    "import netCDF4 as nc\n",
    "import matplotlib.pyplot as plt\n",
    "import pandas as pd"
   ]
  },
  {
   "cell_type": "code",
   "execution_count": 2,
   "metadata": {},
   "outputs": [
    {
     "name": "stdout",
     "output_type": "stream",
     "text": [
      "(1, 720, 1440)\n"
     ]
    }
   ],
   "source": [
    "data = nc.Dataset('ESACCI-SOILMOISTURE-L3S-SSMV-COMBINED-20070101000000-fv05.2.nc', 'r') # reading in data\n",
    "sm = data['sm'][:].data; print(sm.shape)\n",
    "sm = sm[0]"
   ]
  },
  {
   "cell_type": "code",
   "execution_count": null,
   "metadata": {},
   "outputs": [],
   "source": [
    "x = data['lon'][:]\n",
    "y = data['lat'][:]\n",
    "X, Y = np.meshgrid(x, y)\n",
    "plt.imshow(sm, extent=(np.amin(X), np.amax(X), np.amin(Y), np.amax(Y)),aspect='auto') # heatmap\n",
    "plt.ylabel(\"latitude\")\n",
    "plt.xlabel(\"longitude\")\n",
    "plt.title('Soil Moisture Values')\n",
    "plt.colorbar();"
   ]
  },
  {
   "cell_type": "code",
   "execution_count": null,
   "metadata": {},
   "outputs": [],
   "source": [
    "X_flat = X.reshape(-1, 1) # flattening all the relevant arrays for data frame\n",
    "Y_flat = Y.reshape(-1, 1)\n",
    "sm_flat = sm.reshape(-1, 1)\n",
    "sm_arr = np.hstack((X_flat, Y_flat, sm_flat))\n",
    "sm_df = pd.DataFrame(sm_arr, columns = ['lon', 'lat', 'sm']); print(sm_df.shape)"
   ]
  },
  {
   "cell_type": "code",
   "execution_count": null,
   "metadata": {},
   "outputs": [],
   "source": [
    "# function to extract soil moistures at a given location\n",
    "def get_sm(lon, lat, df):\n",
    "    return(df[(df.lon == lon) & (df.lat == lat)].values[0][-1])\n",
    "print(\"soil moisture at (-179.875, 89.875):\", get_sm(lon = -179.875, lat = 89.875, df = sm_df))\n",
    "print(\"soil moisture at (25.625, 71.125):\", get_sm(lon = 25.625, lat = 71.125, df = sm_df))"
   ]
  },
  {
   "cell_type": "code",
   "execution_count": null,
   "metadata": {},
   "outputs": [],
   "source": [
    "# this will grab the relevant locations where there are valid soil moisture values\n",
    "sm_nonnegative = sm_df[sm_df.sm >= 0]\n",
    "print(sm_nonnegative.head())"
   ]
  }
 ],
 "metadata": {
  "kernelspec": {
   "display_name": "Python 3",
   "language": "python",
   "name": "python3"
  },
  "language_info": {
   "codemirror_mode": {
    "name": "ipython",
    "version": 3
   },
   "file_extension": ".py",
   "mimetype": "text/x-python",
   "name": "python",
   "nbconvert_exporter": "python",
   "pygments_lexer": "ipython3",
   "version": "3.8.3"
  }
 },
 "nbformat": 4,
 "nbformat_minor": 4
}
